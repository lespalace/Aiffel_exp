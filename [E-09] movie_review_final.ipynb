{
 "cells": [
  {
   "cell_type": "markdown",
   "metadata": {},
   "source": [
    "# [E-09] 영화리뷰 텍스트 감성분석하기\n",
    "\n",
    "\n",
    "### 목표 : 영화 리뷰 평점 데이터를 사용하여 리뷰 감성을 분류하는 text 분류모델을 구현하기\n",
    "<br>\n",
    "\n",
    "|평가문항|상세기준|\n",
    "|:---|:---|\n",
    "|1.다양한 방법으로 Text Classification 태스크를 성공적으로 구현하였다. |3가지 이상의 모델이 성공적으로 시도됨 |\n",
    "|2. gensim을 활용하여 자체학습된 혹은 사전학습된 임베딩 레이어를 분석하였다.|gensim의 유사단어 찾기를 활용하여 자체학습한 임베딩과 사전학습 임베딩을 적절히 분석함|\n",
    "|3. 한국어 Word2Vec을 활용하여 가시적인 성능향상을 달성했다.|네이버 영화리뷰 데이터 감성분석 정확도를 85% 이상 달성함|\n",
    "\n",
    "<br>\n",
    "\n",
    "### (1) 라이브러리 import \n"
   ]
  },
  {
   "cell_type": "code",
   "execution_count": 1,
   "metadata": {},
   "outputs": [],
   "source": [
    "import os\n",
    "import pandas as pd\n",
    "import numpy as np\n",
    "import urllib.request\n",
    "%matplotlib inline\n",
    "\n",
    "import re\n",
    "import matplotlib.pyplot as plt\n",
    "import tensorflow as tf\n",
    "from konlpy.tag import Okt\n",
    "\n",
    "from tensorflow import keras\n",
    "from tensorflow.keras.preprocessing.text import Tokenizer\n",
    "from tensorflow.keras.preprocessing.sequence import pad_sequences\n",
    "from collections import Counter\n"
   ]
  },
  {
   "cell_type": "code",
   "execution_count": 2,
   "metadata": {},
   "outputs": [
    {
     "data": {
      "text/html": [
       "<div>\n",
       "<style scoped>\n",
       "    .dataframe tbody tr th:only-of-type {\n",
       "        vertical-align: middle;\n",
       "    }\n",
       "\n",
       "    .dataframe tbody tr th {\n",
       "        vertical-align: top;\n",
       "    }\n",
       "\n",
       "    .dataframe thead th {\n",
       "        text-align: right;\n",
       "    }\n",
       "</style>\n",
       "<table border=\"1\" class=\"dataframe\">\n",
       "  <thead>\n",
       "    <tr style=\"text-align: right;\">\n",
       "      <th></th>\n",
       "      <th>id</th>\n",
       "      <th>document</th>\n",
       "      <th>label</th>\n",
       "    </tr>\n",
       "  </thead>\n",
       "  <tbody>\n",
       "    <tr>\n",
       "      <th>0</th>\n",
       "      <td>9976970</td>\n",
       "      <td>아 더빙.. 진짜 짜증나네요 목소리</td>\n",
       "      <td>0</td>\n",
       "    </tr>\n",
       "    <tr>\n",
       "      <th>1</th>\n",
       "      <td>3819312</td>\n",
       "      <td>흠...포스터보고 초딩영화줄....오버연기조차 가볍지 않구나</td>\n",
       "      <td>1</td>\n",
       "    </tr>\n",
       "    <tr>\n",
       "      <th>2</th>\n",
       "      <td>10265843</td>\n",
       "      <td>너무재밓었다그래서보는것을추천한다</td>\n",
       "      <td>0</td>\n",
       "    </tr>\n",
       "    <tr>\n",
       "      <th>3</th>\n",
       "      <td>9045019</td>\n",
       "      <td>교도소 이야기구먼 ..솔직히 재미는 없다..평점 조정</td>\n",
       "      <td>0</td>\n",
       "    </tr>\n",
       "    <tr>\n",
       "      <th>4</th>\n",
       "      <td>6483659</td>\n",
       "      <td>사이몬페그의 익살스런 연기가 돋보였던 영화!스파이더맨에서 늙어보이기만 했던 커스틴 ...</td>\n",
       "      <td>1</td>\n",
       "    </tr>\n",
       "  </tbody>\n",
       "</table>\n",
       "</div>"
      ],
      "text/plain": [
       "         id                                           document  label\n",
       "0   9976970                                아 더빙.. 진짜 짜증나네요 목소리      0\n",
       "1   3819312                  흠...포스터보고 초딩영화줄....오버연기조차 가볍지 않구나      1\n",
       "2  10265843                                  너무재밓었다그래서보는것을추천한다      0\n",
       "3   9045019                      교도소 이야기구먼 ..솔직히 재미는 없다..평점 조정      0\n",
       "4   6483659  사이몬페그의 익살스런 연기가 돋보였던 영화!스파이더맨에서 늙어보이기만 했던 커스틴 ...      1"
      ]
     },
     "execution_count": 2,
     "metadata": {},
     "output_type": "execute_result"
    }
   ],
   "source": [
    "# 데이터 불러오기\n",
    "train_data = pd.read_table('~/aiffel/sentiment_classification/data/ratings_train.txt')\n",
    "test_data = pd.read_table('~/aiffel/sentiment_classification/data/ratings_test.txt')\n",
    "\n",
    "train_data.head()"
   ]
  },
  {
   "cell_type": "code",
   "execution_count": 3,
   "metadata": {},
   "outputs": [
    {
     "data": {
      "text/plain": [
       "(150000, 3)"
      ]
     },
     "execution_count": 3,
     "metadata": {},
     "output_type": "execute_result"
    }
   ],
   "source": [
    "train_data.shape"
   ]
  },
  {
   "cell_type": "code",
   "execution_count": 4,
   "metadata": {},
   "outputs": [
    {
     "name": "stdout",
     "output_type": "stream",
     "text": [
      "<class 'pandas.core.frame.DataFrame'>\n",
      "RangeIndex: 150000 entries, 0 to 149999\n",
      "Data columns (total 3 columns):\n",
      " #   Column    Non-Null Count   Dtype \n",
      "---  ------    --------------   ----- \n",
      " 0   id        150000 non-null  int64 \n",
      " 1   document  149995 non-null  object\n",
      " 2   label     150000 non-null  int64 \n",
      "dtypes: int64(2), object(1)\n",
      "memory usage: 3.4+ MB\n"
     ]
    }
   ],
   "source": [
    "train_data.info()"
   ]
  },
  {
   "cell_type": "markdown",
   "metadata": {},
   "source": [
    "### (2) 데이터 준비\n",
    "- tokenizer는 ```Mecab```을 사용\n",
    "- 불용어도 간단하게 정의 후 전처리에 사용"
   ]
  },
  {
   "cell_type": "code",
   "execution_count": 5,
   "metadata": {},
   "outputs": [],
   "source": [
    "from konlpy.tag import Mecab\n",
    "tokenizer = Mecab()\n",
    "stopwords = ['의','가','이','은','들','는','좀','잘','걍','과','도','를','으로','자','에','와','한','하다']\n",
    "\n",
    "def load_data(train_data, test_data, num_words=10000):\n",
    "    train_data.drop_duplicates(subset=['document'], inplace=True)\n",
    "    train_data = train_data.dropna(how = 'any') \n",
    "    test_data.drop_duplicates(subset=['document'], inplace=True)\n",
    "    test_data = test_data.dropna(how = 'any') \n",
    "\n",
    "    X_train = []\n",
    "    for sentence in train_data['document']:\n",
    "        temp_X = tokenizer.morphs(sentence) # 토큰화\n",
    "        temp_X = [word for word in temp_X if not word in stopwords] # 불용어 제거\n",
    "        X_train.append(temp_X)\n",
    "\n",
    "    X_test = []\n",
    "    for sentence in test_data['document']:\n",
    "        temp_X = tokenizer.morphs(sentence) # 토큰화\n",
    "        temp_X = [word for word in temp_X if not word in stopwords] # 불용어 제거\n",
    "        X_test.append(temp_X)\n",
    "\n",
    "    words = np.concatenate(X_train).tolist()\n",
    "    counter = Counter(words)\n",
    "    counter = counter.most_common(10000-4)\n",
    "    vocab = ['<PAD>', '<BOS>', '<UNK>', '<UNUSED>'] + [key for key, _ in counter]\n",
    "    word_to_index = {word:index for index, word in enumerate(vocab)}\n",
    "\n",
    "    def wordlist_to_indexlist(wordlist):\n",
    "        return [word_to_index[word] if word in word_to_index else word_to_index['<UNK>'] for word in wordlist]\n",
    "\n",
    "    X_train = list(map(wordlist_to_indexlist, X_train))\n",
    "    X_test = list(map(wordlist_to_indexlist, X_test))\n",
    "\n",
    "    return X_train, np.array(list(train_data['label'])), X_test, np.array(list(test_data['label'])), word_to_index\n",
    "    \n",
    "X_train, y_train, X_test, y_test, word_to_index = load_data(train_data, test_data)"
   ]
  },
  {
   "cell_type": "markdown",
   "metadata": {},
   "source": [
    "### (3) index_to_word생성\n",
    "- ```word_to_index```를 활용해서 새로운 ```index_to_word```생성\n",
    "- 그 외에 인덱스를 입력하면 단어로 리턴해주는 함수, 단어를 입력하면 인덱스로 리턴해주는 함수를 정의"
   ]
  },
  {
   "cell_type": "code",
   "execution_count": 6,
   "metadata": {},
   "outputs": [],
   "source": [
    "index_to_word = {index:word for word, index in word_to_index.items()}"
   ]
  },
  {
   "cell_type": "code",
   "execution_count": 7,
   "metadata": {},
   "outputs": [],
   "source": [
    "# 문장 1개를 활용할 딕셔너리와 함께 주면, 단어 인덱스 리스트 벡터로 변환해 주는 함수입니다. \n",
    "# 단, 모든 문장은 <BOS>로 시작하는 것으로 합니다. \n",
    "def get_encoded_sentence(sentence, word_to_index):\n",
    "    return [word_to_index['<BOS>']]+[word_to_index[word] if word in word_to_index else word_to_index['<UNK>'] for word in sentence.split()]\n",
    "\n",
    "# 여러 개의 문장 리스트를 한꺼번에 단어 인덱스 리스트 벡터로 encode해 주는 함수입니다. \n",
    "def get_encoded_sentences(sentences, word_to_index):\n",
    "    return [get_encoded_sentence(sentence, word_to_index) for sentence in sentences]\n",
    "\n",
    "# 숫자 벡터로 encode된 문장을 원래대로 decode하는 함수입니다. \n",
    "def get_decoded_sentence(encoded_sentence, index_to_word):\n",
    "    return ' '.join(index_to_word[index] if index in index_to_word else '<UNK>' for index in encoded_sentence[1:])  #[1:]를 통해 <BOS>를 제외\n",
    "\n",
    "# 여러개의 숫자 벡터로 encode된 문장을 한꺼번에 원래대로 decode하는 함수입니다. \n",
    "def get_decoded_sentences(encoded_sentences, index_to_word):\n",
    "    return [get_decoded_sentence(encoded_sentence, index_to_word) for encoded_sentence in encoded_sentences]"
   ]
  },
  {
   "cell_type": "markdown",
   "metadata": {},
   "source": [
    "### (4) 모델구성을 위한 데이터 분석 및 가공\n"
   ]
  },
  {
   "cell_type": "code",
   "execution_count": 8,
   "metadata": {},
   "outputs": [
    {
     "name": "stdout",
     "output_type": "stream",
     "text": [
      "문장길이 평균 :  15.96940191154864\n",
      "문장길이 최대 :  116\n",
      "문장길이 표준편차 :  12.843571191092\n",
      "pad_sequences maxlen :  41\n",
      "전체 문장의 0.9342988343341575%가 maxlen 설정값 이내에 포함 \n"
     ]
    }
   ],
   "source": [
    "# 데이터셋 내 문장 길이 분포\n",
    "\n",
    "total_data_text = list(X_train) + list(X_test)\n",
    "# 텍스트데이터 문장길이의 리스트를 생성한 후\n",
    "num_tokens = [len(tokens) for tokens in total_data_text]\n",
    "num_tokens = np.array(num_tokens)\n",
    "# 문장길이의 평균값, 최대값, 표준편차를 계산해 본다. \n",
    "print('문장길이 평균 : ', np.mean(num_tokens))\n",
    "print('문장길이 최대 : ', np.max(num_tokens))\n",
    "print('문장길이 표준편차 : ', np.std(num_tokens))\n",
    "\n",
    "# 예를들어, 최대 길이를 (평균 + 2*표준편차)로 한다면,  \n",
    "max_tokens = np.mean(num_tokens) + 2 * np.std(num_tokens)\n",
    "maxlen = int(max_tokens)\n",
    "print('pad_sequences maxlen : ', maxlen)\n",
    "print('전체 문장의 {}%가 maxlen 설정값 이내에 포함 '.format(np.sum(num_tokens < max_tokens) / len(num_tokens)))"
   ]
  },
  {
   "cell_type": "code",
   "execution_count": 9,
   "metadata": {},
   "outputs": [
    {
     "name": "stdout",
     "output_type": "stream",
     "text": [
      "(146182, 41)\n"
     ]
    }
   ],
   "source": [
    "# 적절한 최대 문장 길이 지정\n",
    "# keras.preprocessing.sequence.pad_sequences 을 활용한 패딩 추가\n",
    "\n",
    "X_train = keras.preprocessing.sequence.pad_sequences(X_train,\n",
    "                                                        value=word_to_index[\"<PAD>\"],\n",
    "                                                        padding='post', # 혹은 'pre'\n",
    "                                                        maxlen=maxlen)\n",
    "\n",
    "X_test = keras.preprocessing.sequence.pad_sequences(X_test,\n",
    "                                                       value=word_to_index[\"<PAD>\"],\n",
    "                                                       padding='post', # 혹은 'pre'\n",
    "                                                       maxlen=maxlen)\n",
    "\n",
    "print(X_train.shape)"
   ]
  },
  {
   "cell_type": "code",
   "execution_count": 10,
   "metadata": {},
   "outputs": [
    {
     "name": "stdout",
     "output_type": "stream",
     "text": [
      "(49157, 41)\n"
     ]
    }
   ],
   "source": [
    "print(X_test.shape)"
   ]
  },
  {
   "cell_type": "markdown",
   "metadata": {},
   "source": [
    "### (5) validation set 구성 및 모델선정"
   ]
  },
  {
   "cell_type": "markdown",
   "metadata": {},
   "source": [
    "####  a. validation set 구성"
   ]
  },
  {
   "cell_type": "code",
   "execution_count": 11,
   "metadata": {},
   "outputs": [
    {
     "data": {
      "text/plain": [
       "146182"
      ]
     },
     "execution_count": 11,
     "metadata": {},
     "output_type": "execute_result"
    }
   ],
   "source": [
    "len(X_train)"
   ]
  },
  {
   "cell_type": "code",
   "execution_count": 12,
   "metadata": {},
   "outputs": [
    {
     "name": "stdout",
     "output_type": "stream",
     "text": [
      "(126182, 41)\n",
      "(126182,)\n",
      "(20000, 41)\n",
      "(20000,)\n"
     ]
    }
   ],
   "source": [
    "# validation set 20000건 분리\n",
    "x_val = X_train[:20000]   \n",
    "y_val = y_train[:20000]\n",
    "\n",
    "# validation set을 제외한 나머지는 train set\n",
    "partial_X_train = X_train[20000:]  \n",
    "partial_y_train = y_train[20000:]\n",
    "\n",
    "print(partial_X_train.shape)\n",
    "print(partial_y_train.shape)\n",
    "print(x_val.shape)\n",
    "print(y_val.shape)"
   ]
  },
  {
   "cell_type": "markdown",
   "metadata": {},
   "source": [
    "#### b. model 선정\n",
    "- 같은 파라미터로 3가지 모델을 학습하기로 함\n",
    "    1. 1-D CNN\n",
    "    2. LSTM\n",
    "    3. GlobalMaxPooling1D"
   ]
  },
  {
   "cell_type": "code",
   "execution_count": 13,
   "metadata": {},
   "outputs": [],
   "source": [
    "# 세가지 모델을 평가할 때, 파라미터는 고정으로 사용\n",
    "vocab_size = len(index_to_word)\n",
    "word_vector_dim = 300"
   ]
  },
  {
   "cell_type": "markdown",
   "metadata": {
    "heading_collapsed": true
   },
   "source": [
    "#### 1-D CNN"
   ]
  },
  {
   "cell_type": "code",
   "execution_count": 14,
   "metadata": {},
   "outputs": [],
   "source": [
    "from tensorflow import keras\n",
    "from tensorflow.keras.preprocessing.text import Tokenizer\n",
    "import numpy as np\n",
    "from tensorflow.keras.preprocessing.sequence import pad_sequences\n",
    "\n",
    "vocab_size = 10000    # 어휘 사전의 크기입니다(10,000개의 단어)\n",
    "word_vector_dim = 16  # 워드 벡터의 차원 수 (변경 가능한 하이퍼파라미터)\n",
    "\n",
    "# model 설계 - 딥러닝 모델 코드를 직접 작성해 주세요.\n",
    "model = tf.keras.Sequential()\n"
   ]
  },
  {
   "cell_type": "code",
   "execution_count": 15,
   "metadata": {
    "hidden": true
   },
   "outputs": [
    {
     "name": "stdout",
     "output_type": "stream",
     "text": [
      "Model: \"CNN\"\n",
      "_________________________________________________________________\n",
      "Layer (type)                 Output Shape              Param #   \n",
      "=================================================================\n",
      "embedding (Embedding)        (None, None, 16)          160000    \n",
      "_________________________________________________________________\n",
      "conv1d (Conv1D)              (None, None, 256)         28928     \n",
      "_________________________________________________________________\n",
      "max_pooling1d (MaxPooling1D) (None, None, 256)         0         \n",
      "_________________________________________________________________\n",
      "conv1d_1 (Conv1D)            (None, None, 64)          114752    \n",
      "_________________________________________________________________\n",
      "global_max_pooling1d (Global (None, 64)                0         \n",
      "_________________________________________________________________\n",
      "dense (Dense)                (None, 8)                 520       \n",
      "_________________________________________________________________\n",
      "dense_1 (Dense)              (None, 1)                 9         \n",
      "=================================================================\n",
      "Total params: 304,209\n",
      "Trainable params: 304,209\n",
      "Non-trainable params: 0\n",
      "_________________________________________________________________\n"
     ]
    }
   ],
   "source": [
    "# CNN\n",
    "\n",
    "CNN_model = keras.Sequential(name=\"CNN\")\n",
    "CNN_model.add(keras.layers.Embedding(vocab_size, word_vector_dim, input_shape=(None,)))\n",
    "CNN_model.add(keras.layers.Conv1D(256, 7, activation='relu'))\n",
    "CNN_model.add(keras.layers.MaxPooling1D(5))\n",
    "CNN_model.add(keras.layers.Conv1D(64, 7, activation='relu'))\n",
    "CNN_model.add(keras.layers.GlobalMaxPooling1D())\n",
    "CNN_model.add(keras.layers.Dense(8, activation='relu'))\n",
    "CNN_model.add(keras.layers.Dense(1, activation='sigmoid'))\n",
    "CNN_model.summary()"
   ]
  },
  {
   "cell_type": "markdown",
   "metadata": {},
   "source": [
    "#### LSTM"
   ]
  },
  {
   "cell_type": "code",
   "execution_count": 16,
   "metadata": {},
   "outputs": [
    {
     "name": "stdout",
     "output_type": "stream",
     "text": [
      "Model: \"LSTM\"\n",
      "_________________________________________________________________\n",
      "Layer (type)                 Output Shape              Param #   \n",
      "=================================================================\n",
      "embedding_1 (Embedding)      (None, None, 16)          160000    \n",
      "_________________________________________________________________\n",
      "lstm (LSTM)                  (None, 8)                 800       \n",
      "_________________________________________________________________\n",
      "dense_2 (Dense)              (None, 8)                 72        \n",
      "_________________________________________________________________\n",
      "dense_3 (Dense)              (None, 1)                 9         \n",
      "=================================================================\n",
      "Total params: 160,881\n",
      "Trainable params: 160,881\n",
      "Non-trainable params: 0\n",
      "_________________________________________________________________\n"
     ]
    }
   ],
   "source": [
    "# LSTM\n",
    "\n",
    "LSTM_model = keras.Sequential(name=\"LSTM\")\n",
    "LSTM_model.add(keras.layers.Embedding(vocab_size, word_vector_dim, input_shape=(None,)))\n",
    "LSTM_model.add(keras.layers.LSTM(8, dropout=0.7))\n",
    "LSTM_model.add(keras.layers.Dense(8, activation='relu'))\n",
    "LSTM_model.add(keras.layers.Dense(1, activation='sigmoid'))\n",
    "\n",
    "LSTM_model.summary()"
   ]
  },
  {
   "cell_type": "markdown",
   "metadata": {},
   "source": [
    "#### GlobalMaxPooling1D"
   ]
  },
  {
   "cell_type": "code",
   "execution_count": 17,
   "metadata": {},
   "outputs": [
    {
     "name": "stdout",
     "output_type": "stream",
     "text": [
      "Model: \"GMP\"\n",
      "_________________________________________________________________\n",
      "Layer (type)                 Output Shape              Param #   \n",
      "=================================================================\n",
      "embedding_2 (Embedding)      (None, None, 16)          160000    \n",
      "_________________________________________________________________\n",
      "global_max_pooling1d_1 (Glob (None, 16)                0         \n",
      "_________________________________________________________________\n",
      "dense_4 (Dense)              (None, 8)                 136       \n",
      "_________________________________________________________________\n",
      "dense_5 (Dense)              (None, 1)                 9         \n",
      "=================================================================\n",
      "Total params: 160,145\n",
      "Trainable params: 160,145\n",
      "Non-trainable params: 0\n",
      "_________________________________________________________________\n"
     ]
    }
   ],
   "source": [
    "# GlobalMaxPooling1D\n",
    "\n",
    "GMP_model = keras.Sequential(name=\"GMP\")\n",
    "GMP_model.add(keras.layers.Embedding(vocab_size, word_vector_dim, input_shape=(None,)))\n",
    "GMP_model.add(keras.layers.GlobalMaxPooling1D())\n",
    "GMP_model.add(keras.layers.Dense(8, activation='relu'))\n",
    "GMP_model.add(keras.layers.Dense(1, activation='sigmoid'))\n",
    "\n",
    "GMP_model.summary()"
   ]
  },
  {
   "cell_type": "markdown",
   "metadata": {},
   "source": [
    "#### 3가지 모델을 같은 조건에서 학습 후 결과 확인"
   ]
  },
  {
   "cell_type": "code",
   "execution_count": 18,
   "metadata": {},
   "outputs": [
    {
     "data": {
      "text/plain": [
       "['CNN', 'LSTM', 'GMP']"
      ]
     },
     "execution_count": 18,
     "metadata": {},
     "output_type": "execute_result"
    }
   ],
   "source": [
    "model_lst = [CNN_model.name, LSTM_model.name, GMP_model.name]\n",
    "model_lst"
   ]
  },
  {
   "cell_type": "code",
   "execution_count": 19,
   "metadata": {},
   "outputs": [
    {
     "name": "stdout",
     "output_type": "stream",
     "text": [
      "----------------------------------------\n",
      "Start fitting CNN ...\n",
      "Epoch 1/20\n",
      "247/247 [==============================] - 6s 10ms/step - loss: 0.4595 - accuracy: 0.7628 - val_loss: 0.3516 - val_accuracy: 0.8463\n",
      "Epoch 2/20\n",
      "247/247 [==============================] - 2s 8ms/step - loss: 0.3223 - accuracy: 0.8624 - val_loss: 0.3340 - val_accuracy: 0.8544\n",
      "Epoch 3/20\n",
      "247/247 [==============================] - 2s 8ms/step - loss: 0.2897 - accuracy: 0.8795 - val_loss: 0.3349 - val_accuracy: 0.8554\n",
      "Epoch 4/20\n",
      "247/247 [==============================] - 2s 8ms/step - loss: 0.2599 - accuracy: 0.8944 - val_loss: 0.3384 - val_accuracy: 0.8569\n",
      "Epoch 5/20\n",
      "247/247 [==============================] - 2s 8ms/step - loss: 0.2249 - accuracy: 0.9116 - val_loss: 0.3646 - val_accuracy: 0.8537\n",
      "Epoch 6/20\n",
      "247/247 [==============================] - 2s 8ms/step - loss: 0.1898 - accuracy: 0.9280 - val_loss: 0.3974 - val_accuracy: 0.8501\n",
      "Epoch 7/20\n",
      "247/247 [==============================] - 2s 8ms/step - loss: 0.1554 - accuracy: 0.9433 - val_loss: 0.4308 - val_accuracy: 0.8472\n",
      "Epoch 8/20\n",
      "247/247 [==============================] - 2s 8ms/step - loss: 0.1263 - accuracy: 0.9561 - val_loss: 0.4814 - val_accuracy: 0.8439\n",
      "Epoch 9/20\n",
      "247/247 [==============================] - 2s 8ms/step - loss: 0.1045 - accuracy: 0.9646 - val_loss: 0.5407 - val_accuracy: 0.8385\n",
      "Epoch 10/20\n",
      "247/247 [==============================] - 2s 8ms/step - loss: 0.0859 - accuracy: 0.9724 - val_loss: 0.6075 - val_accuracy: 0.8370\n",
      "Epoch 11/20\n",
      "247/247 [==============================] - 2s 8ms/step - loss: 0.0725 - accuracy: 0.9769 - val_loss: 0.6902 - val_accuracy: 0.8325\n",
      "Epoch 12/20\n",
      "247/247 [==============================] - 2s 8ms/step - loss: 0.0635 - accuracy: 0.9800 - val_loss: 0.7159 - val_accuracy: 0.8310\n",
      "Epoch 13/20\n",
      "247/247 [==============================] - 2s 8ms/step - loss: 0.0563 - accuracy: 0.9825 - val_loss: 0.7574 - val_accuracy: 0.8303\n",
      "Epoch 14/20\n",
      "247/247 [==============================] - 2s 8ms/step - loss: 0.0506 - accuracy: 0.9844 - val_loss: 0.7949 - val_accuracy: 0.8289\n",
      "Epoch 15/20\n",
      "247/247 [==============================] - 2s 8ms/step - loss: 0.0470 - accuracy: 0.9850 - val_loss: 0.8365 - val_accuracy: 0.8328\n",
      "Epoch 16/20\n",
      "247/247 [==============================] - 2s 8ms/step - loss: 0.0434 - accuracy: 0.9859 - val_loss: 0.9165 - val_accuracy: 0.8303\n",
      "Epoch 17/20\n",
      "247/247 [==============================] - 2s 8ms/step - loss: 0.0411 - accuracy: 0.9867 - val_loss: 0.9602 - val_accuracy: 0.8311\n",
      "Epoch 18/20\n",
      "247/247 [==============================] - 2s 8ms/step - loss: 0.0376 - accuracy: 0.9879 - val_loss: 0.9888 - val_accuracy: 0.8334\n",
      "Epoch 19/20\n",
      "247/247 [==============================] - 2s 8ms/step - loss: 0.0359 - accuracy: 0.9882 - val_loss: 1.0338 - val_accuracy: 0.8321\n",
      "Epoch 20/20\n",
      "247/247 [==============================] - 2s 8ms/step - loss: 0.0343 - accuracy: 0.9888 - val_loss: 1.0489 - val_accuracy: 0.8293\n",
      "Start evaluating CNN ...\n",
      "1537/1537 - 3s - loss: 1.0960 - accuracy: 0.8236\n",
      "----------------------------------------\n",
      "Start fitting LSTM ...\n",
      "Epoch 1/20\n",
      "247/247 [==============================] - 4s 7ms/step - loss: 0.6560 - accuracy: 0.5778 - val_loss: 0.4767 - val_accuracy: 0.7983\n",
      "Epoch 2/20\n",
      "247/247 [==============================] - 1s 6ms/step - loss: 0.4122 - accuracy: 0.8170 - val_loss: 0.3568 - val_accuracy: 0.8435\n",
      "Epoch 3/20\n",
      "247/247 [==============================] - 1s 5ms/step - loss: 0.3688 - accuracy: 0.8390 - val_loss: 0.3447 - val_accuracy: 0.8515\n",
      "Epoch 4/20\n",
      "247/247 [==============================] - 1s 6ms/step - loss: 0.3524 - accuracy: 0.8475 - val_loss: 0.3434 - val_accuracy: 0.8529\n",
      "Epoch 5/20\n",
      "247/247 [==============================] - 1s 5ms/step - loss: 0.3430 - accuracy: 0.8520 - val_loss: 0.3398 - val_accuracy: 0.8540\n",
      "Epoch 6/20\n",
      "247/247 [==============================] - 1s 5ms/step - loss: 0.3386 - accuracy: 0.8546 - val_loss: 0.3400 - val_accuracy: 0.8525\n",
      "Epoch 7/20\n",
      "247/247 [==============================] - 1s 5ms/step - loss: 0.3333 - accuracy: 0.8570 - val_loss: 0.3434 - val_accuracy: 0.8554\n",
      "Epoch 8/20\n",
      "247/247 [==============================] - 1s 6ms/step - loss: 0.3312 - accuracy: 0.8578 - val_loss: 0.3383 - val_accuracy: 0.8539\n",
      "Epoch 9/20\n",
      "247/247 [==============================] - 1s 5ms/step - loss: 0.3260 - accuracy: 0.8600 - val_loss: 0.3446 - val_accuracy: 0.8528\n",
      "Epoch 10/20\n",
      "247/247 [==============================] - 1s 6ms/step - loss: 0.3234 - accuracy: 0.8599 - val_loss: 0.3385 - val_accuracy: 0.8541\n",
      "Epoch 11/20\n",
      "247/247 [==============================] - 1s 5ms/step - loss: 0.3210 - accuracy: 0.8618 - val_loss: 0.3457 - val_accuracy: 0.8474\n",
      "Epoch 12/20\n",
      "247/247 [==============================] - 1s 6ms/step - loss: 0.3190 - accuracy: 0.8629 - val_loss: 0.3407 - val_accuracy: 0.8491\n",
      "Epoch 13/20\n",
      "247/247 [==============================] - 1s 5ms/step - loss: 0.3172 - accuracy: 0.8637 - val_loss: 0.3397 - val_accuracy: 0.8543\n",
      "Epoch 14/20\n",
      "247/247 [==============================] - 1s 5ms/step - loss: 0.3133 - accuracy: 0.8651 - val_loss: 0.3396 - val_accuracy: 0.8540\n",
      "Epoch 15/20\n",
      "247/247 [==============================] - 1s 5ms/step - loss: 0.3106 - accuracy: 0.8662 - val_loss: 0.3409 - val_accuracy: 0.8526\n",
      "Epoch 16/20\n",
      "247/247 [==============================] - 1s 5ms/step - loss: 0.3101 - accuracy: 0.8669 - val_loss: 0.3361 - val_accuracy: 0.8554\n",
      "Epoch 17/20\n",
      "247/247 [==============================] - 1s 5ms/step - loss: 0.3090 - accuracy: 0.8668 - val_loss: 0.3433 - val_accuracy: 0.8533\n",
      "Epoch 18/20\n",
      "247/247 [==============================] - 1s 5ms/step - loss: 0.3061 - accuracy: 0.8685 - val_loss: 0.3423 - val_accuracy: 0.8543\n",
      "Epoch 19/20\n",
      "247/247 [==============================] - 1s 5ms/step - loss: 0.3057 - accuracy: 0.8671 - val_loss: 0.3375 - val_accuracy: 0.8551\n",
      "Epoch 20/20\n",
      "247/247 [==============================] - 1s 5ms/step - loss: 0.3032 - accuracy: 0.8699 - val_loss: 0.3431 - val_accuracy: 0.8546\n",
      "Start evaluating LSTM ...\n",
      "1537/1537 - 3s - loss: 0.3485 - accuracy: 0.8518\n",
      "----------------------------------------\n",
      "Start fitting GMP ...\n",
      "Epoch 1/20\n",
      "247/247 [==============================] - 1s 4ms/step - loss: 0.6056 - accuracy: 0.7332 - val_loss: 0.4398 - val_accuracy: 0.8221\n",
      "Epoch 2/20\n",
      "247/247 [==============================] - 1s 3ms/step - loss: 0.3822 - accuracy: 0.8375 - val_loss: 0.3641 - val_accuracy: 0.8410\n",
      "Epoch 3/20\n",
      "247/247 [==============================] - 1s 3ms/step - loss: 0.3306 - accuracy: 0.8595 - val_loss: 0.3531 - val_accuracy: 0.8460\n",
      "Epoch 4/20\n",
      "247/247 [==============================] - 1s 3ms/step - loss: 0.3041 - accuracy: 0.8724 - val_loss: 0.3521 - val_accuracy: 0.8474\n",
      "Epoch 5/20\n",
      "247/247 [==============================] - 1s 3ms/step - loss: 0.2844 - accuracy: 0.8824 - val_loss: 0.3549 - val_accuracy: 0.8465\n",
      "Epoch 6/20\n",
      "247/247 [==============================] - 1s 3ms/step - loss: 0.2685 - accuracy: 0.8905 - val_loss: 0.3606 - val_accuracy: 0.8458\n",
      "Epoch 7/20\n",
      "247/247 [==============================] - 1s 3ms/step - loss: 0.2549 - accuracy: 0.8975 - val_loss: 0.3672 - val_accuracy: 0.8471\n",
      "Epoch 8/20\n",
      "247/247 [==============================] - 1s 3ms/step - loss: 0.2430 - accuracy: 0.9031 - val_loss: 0.3755 - val_accuracy: 0.8457\n",
      "Epoch 9/20\n",
      "247/247 [==============================] - 1s 3ms/step - loss: 0.2322 - accuracy: 0.9083 - val_loss: 0.3842 - val_accuracy: 0.8439\n",
      "Epoch 10/20\n",
      "247/247 [==============================] - 1s 3ms/step - loss: 0.2227 - accuracy: 0.9133 - val_loss: 0.3928 - val_accuracy: 0.8429\n",
      "Epoch 11/20\n",
      "247/247 [==============================] - 1s 3ms/step - loss: 0.2136 - accuracy: 0.9171 - val_loss: 0.4028 - val_accuracy: 0.8431\n",
      "Epoch 12/20\n",
      "247/247 [==============================] - 1s 3ms/step - loss: 0.2057 - accuracy: 0.9209 - val_loss: 0.4124 - val_accuracy: 0.8413\n",
      "Epoch 13/20\n",
      "247/247 [==============================] - 1s 3ms/step - loss: 0.1982 - accuracy: 0.9249 - val_loss: 0.4222 - val_accuracy: 0.8393\n",
      "Epoch 14/20\n",
      "247/247 [==============================] - 1s 3ms/step - loss: 0.1911 - accuracy: 0.9282 - val_loss: 0.4330 - val_accuracy: 0.8394\n",
      "Epoch 15/20\n",
      "247/247 [==============================] - 1s 3ms/step - loss: 0.1846 - accuracy: 0.9317 - val_loss: 0.4426 - val_accuracy: 0.8367\n",
      "Epoch 16/20\n",
      "247/247 [==============================] - 1s 3ms/step - loss: 0.1787 - accuracy: 0.9337 - val_loss: 0.4525 - val_accuracy: 0.8368\n",
      "Epoch 17/20\n",
      "247/247 [==============================] - 1s 3ms/step - loss: 0.1730 - accuracy: 0.9368 - val_loss: 0.4640 - val_accuracy: 0.8346\n",
      "Epoch 18/20\n",
      "247/247 [==============================] - 1s 3ms/step - loss: 0.1676 - accuracy: 0.9396 - val_loss: 0.4730 - val_accuracy: 0.8340\n",
      "Epoch 19/20\n",
      "247/247 [==============================] - 1s 3ms/step - loss: 0.1625 - accuracy: 0.9418 - val_loss: 0.4854 - val_accuracy: 0.8311\n",
      "Epoch 20/20\n",
      "247/247 [==============================] - 1s 3ms/step - loss: 0.1579 - accuracy: 0.9439 - val_loss: 0.4942 - val_accuracy: 0.8312\n",
      "Start evaluating GMP ...\n",
      "1537/1537 - 2s - loss: 0.5057 - accuracy: 0.8245\n"
     ]
    }
   ],
   "source": [
    "model_result = {}\n",
    "\n",
    "for model_name in model_lst:\n",
    "    \n",
    "    if model_name == \"CNN\":\n",
    "        model = CNN_model\n",
    "    elif model_name == \"LSTM\":\n",
    "        model = LSTM_model\n",
    "    else :\n",
    "        model = GMP_model\n",
    "    \n",
    "    print('-'*40)\n",
    "    print(\"Start fitting {} ...\".format(model_name))\n",
    "    model.compile(optimizer='Adam',\n",
    "                  loss='binary_crossentropy',\n",
    "                  metrics=['accuracy'])\n",
    "\n",
    "    epochs=20\n",
    "\n",
    "    history = model.fit(partial_X_train,\n",
    "                        partial_y_train,\n",
    "                        epochs=epochs,\n",
    "                        batch_size=512,\n",
    "                        validation_data=(x_val, y_val),\n",
    "                        verbose=1)\n",
    "    \n",
    "    \n",
    "    print(\"Start evaluating {} ...\".format(model_name))\n",
    "    results = model.evaluate(X_test,  y_test, verbose=2)\n",
    "    model_result[model_name] = results"
   ]
  },
  {
   "cell_type": "code",
   "execution_count": 20,
   "metadata": {},
   "outputs": [
    {
     "name": "stdout",
     "output_type": "stream",
     "text": [
      "LSTM \t 0.8518420457839966\n",
      "GMP \t 0.8244807720184326\n",
      "CNN \t 0.8236263394355774\n"
     ]
    }
   ],
   "source": [
    "for name, [_, acc] in sorted(model_result.items(), key=lambda x : x[1][1], reverse=True) :\n",
    "    print(name,'\\t',acc)"
   ]
  },
  {
   "cell_type": "markdown",
   "metadata": {},
   "source": [
    "- 이후에 가장 성능이 좋은 모델 선택 후 파라미터 튜닝을 수행\n",
    "\n",
    "### (6) 모델 훈련\n",
    "\n",
    "- 위의 모델 중에서 LSTM의 성능이 가장 좋은것을 확인\n",
    "- 모델을 훈련하기 전에 먼저 성능을 올릴 수 있는 최적의 하이퍼파라미터를 찾아보기"
   ]
  },
  {
   "cell_type": "code",
   "execution_count": 21,
   "metadata": {},
   "outputs": [
    {
     "name": "stdout",
     "output_type": "stream",
     "text": [
      "Model: \"sequential_1\"\n",
      "_________________________________________________________________\n",
      "Layer (type)                 Output Shape              Param #   \n",
      "=================================================================\n",
      "embedding_3 (Embedding)      (None, None, 1000)        10000000  \n",
      "_________________________________________________________________\n",
      "lstm_1 (LSTM)                (None, 128)               578048    \n",
      "_________________________________________________________________\n",
      "dense_6 (Dense)              (None, 8)                 1032      \n",
      "_________________________________________________________________\n",
      "dense_7 (Dense)              (None, 1)                 9         \n",
      "=================================================================\n",
      "Total params: 10,579,089\n",
      "Trainable params: 10,579,089\n",
      "Non-trainable params: 0\n",
      "_________________________________________________________________\n"
     ]
    }
   ],
   "source": [
    "word_vector_dim = 1000  # 워드 벡터의 차원수\n",
    "\n",
    "model = keras.Sequential()\n",
    "model.add(keras.layers.Embedding(vocab_size, word_vector_dim, input_shape=(None,)))\n",
    "# CNN을 추가했을 때\n",
    "# model.add(keras.layers.Conv1D(8, 7, activation='relu'))\n",
    "# model.add(keras.layers.MaxPooling1D())\n",
    "# LSTM 레이어를 두개로 학습했을 때\n",
    "# model.add(keras.layers.LSTM(256, dropout=0.7, return_sequences=True))\n",
    "model.add(keras.layers.LSTM(128, dropout=0.7))\n",
    "model.add(keras.layers.Dense(8, activation='relu'))\n",
    "model.add(keras.layers.Dense(1, activation='sigmoid'))  # 최종 출력은 긍정/부정을 이진분류\n",
    "\n",
    "model.summary()"
   ]
  },
  {
   "cell_type": "code",
   "execution_count": 22,
   "metadata": {},
   "outputs": [],
   "source": [
    "early_stopping = tf.keras.callbacks.EarlyStopping(monitor='val_loss', mode='min', verbose=1, patience=3)\n",
    "model_check = tf.keras.callbacks.ModelCheckpoint('model.h5', monitor='val_accuracy', mode='max', verbose=1, save_best_only=True)"
   ]
  },
  {
   "cell_type": "markdown",
   "metadata": {},
   "source": [
    "```optimizer```에서 사용하는 ```Adam```에도 ```learning rate```를 조절해주었다.  "
   ]
  },
  {
   "cell_type": "code",
   "execution_count": 23,
   "metadata": {},
   "outputs": [
    {
     "name": "stdout",
     "output_type": "stream",
     "text": [
      "Epoch 1/20\n",
      "986/986 [==============================] - 17s 16ms/step - loss: 0.5659 - accuracy: 0.6821 - val_loss: 0.4923 - val_accuracy: 0.7827\n",
      "\n",
      "Epoch 00001: val_accuracy improved from -inf to 0.78270, saving model to model.h5\n",
      "Epoch 2/20\n",
      "986/986 [==============================] - 15s 15ms/step - loss: 0.3827 - accuracy: 0.8313 - val_loss: 0.3480 - val_accuracy: 0.8467\n",
      "\n",
      "Epoch 00002: val_accuracy improved from 0.78270 to 0.84665, saving model to model.h5\n",
      "Epoch 3/20\n",
      "986/986 [==============================] - 15s 15ms/step - loss: 0.3279 - accuracy: 0.8593 - val_loss: 0.3351 - val_accuracy: 0.8564\n",
      "\n",
      "Epoch 00003: val_accuracy improved from 0.84665 to 0.85635, saving model to model.h5\n",
      "Epoch 4/20\n",
      "986/986 [==============================] - 15s 15ms/step - loss: 0.2995 - accuracy: 0.8720 - val_loss: 0.3292 - val_accuracy: 0.8618\n",
      "\n",
      "Epoch 00004: val_accuracy improved from 0.85635 to 0.86175, saving model to model.h5\n",
      "Epoch 5/20\n",
      "986/986 [==============================] - 15s 15ms/step - loss: 0.2740 - accuracy: 0.8846 - val_loss: 0.3290 - val_accuracy: 0.8619\n",
      "\n",
      "Epoch 00005: val_accuracy improved from 0.86175 to 0.86185, saving model to model.h5\n",
      "Epoch 6/20\n",
      "986/986 [==============================] - 15s 15ms/step - loss: 0.2535 - accuracy: 0.8937 - val_loss: 0.3373 - val_accuracy: 0.8612\n",
      "\n",
      "Epoch 00006: val_accuracy did not improve from 0.86185\n",
      "Epoch 7/20\n",
      "986/986 [==============================] - 15s 15ms/step - loss: 0.2359 - accuracy: 0.9013 - val_loss: 0.3353 - val_accuracy: 0.8610\n",
      "\n",
      "Epoch 00007: val_accuracy did not improve from 0.86185\n",
      "Epoch 8/20\n",
      "986/986 [==============================] - 15s 15ms/step - loss: 0.2184 - accuracy: 0.9096 - val_loss: 0.3548 - val_accuracy: 0.8595\n",
      "\n",
      "Epoch 00008: val_accuracy did not improve from 0.86185\n",
      "Epoch 00008: early stopping\n"
     ]
    }
   ],
   "source": [
    "model.compile(optimizer=tf.keras.optimizers.Adam(learning_rate=0.0005),\n",
    "              loss='binary_crossentropy',\n",
    "              metrics=['accuracy'])\n",
    "              \n",
    "epochs=20\n",
    "history = model.fit(partial_X_train,\n",
    "                    partial_y_train,\n",
    "                    epochs=epochs,\n",
    "                    batch_size=128,\n",
    "                    validation_data=(x_val, y_val),\n",
    "                    verbose=1,\n",
    "                   callbacks=[early_stopping, model_check])"
   ]
  },
  {
   "cell_type": "code",
   "execution_count": 24,
   "metadata": {},
   "outputs": [
    {
     "name": "stdout",
     "output_type": "stream",
     "text": [
      "1537/1537 - 3s - loss: 0.3578 - accuracy: 0.8566\n",
      "[0.3577619194984436, 0.85664302110672]\n"
     ]
    }
   ],
   "source": [
    "results = model.evaluate(X_test,  y_test, verbose=2)\n",
    "\n",
    "print(results)"
   ]
  },
  {
   "cell_type": "markdown",
   "metadata": {},
   "source": [
    "이렇게 학습시킨 결과 ```0.852```에서 ```0.857```로 정확도가 상승하였다."
   ]
  },
  {
   "cell_type": "markdown",
   "metadata": {},
   "source": [
    "### (7) Loss, Accuracy 그래프 시각화\n"
   ]
  },
  {
   "cell_type": "code",
   "execution_count": 25,
   "metadata": {},
   "outputs": [
    {
     "name": "stdout",
     "output_type": "stream",
     "text": [
      "dict_keys(['loss', 'accuracy', 'val_loss', 'val_accuracy'])\n"
     ]
    }
   ],
   "source": [
    "history_dict = history.history\n",
    "print(history_dict.keys()) # epoch에 따른 그래프를 그려볼 수 있는 항목들"
   ]
  },
  {
   "cell_type": "code",
   "execution_count": 26,
   "metadata": {},
   "outputs": [
    {
     "data": {
      "image/png": "[encoded data removed]",
      "text/plain": [
       "<Figure size 432x288 with 1 Axes>"
      ]
     },
     "metadata": {
      "needs_background": "light"
     },
     "output_type": "display_data"
    }
   ],
   "source": [
    "import matplotlib.pyplot as plt\n",
    "\n",
    "acc = history_dict['accuracy']\n",
    "val_acc = history_dict['val_accuracy']\n",
    "loss = history_dict['loss']\n",
    "val_loss = history_dict['val_loss']\n",
    "\n",
    "epochs = range(1, len(acc) + 1)\n",
    "\n",
    "# 빨간 실선으로 표시\n",
    "plt.plot(epochs, loss, 'r', label='Training loss')\n",
    "# 파란 실선으로 표시\n",
    "plt.plot(epochs, val_loss, 'b', label='Validation loss')\n",
    "plt.title('Training and validation loss')\n",
    "plt.xlabel('Epochs')\n",
    "plt.ylabel('Loss')\n",
    "plt.grid()\n",
    "plt.legend()\n",
    "\n",
    "plt.show()"
   ]
  },
  {
   "cell_type": "markdown",
   "metadata": {},
   "source": [
    "### (8) 학습된 Embedding 레이어 분석"
   ]
  },
  {
   "cell_type": "code",
   "execution_count": 27,
   "metadata": {},
   "outputs": [],
   "source": [
    "import os\n",
    "import gensim\n",
    "from gensim.models.keyedvectors import Word2VecKeyedVectors\n",
    "from tensorflow.keras.initializers import Constant"
   ]
  },
  {
   "cell_type": "code",
   "execution_count": 28,
   "metadata": {},
   "outputs": [
    {
     "name": "stdout",
     "output_type": "stream",
     "text": [
      "(10000, 1000)\n"
     ]
    }
   ],
   "source": [
    "embedding_layer = model.layers[0]\n",
    "weights = embedding_layer.get_weights()[0]\n",
    "print(weights.shape)    # shape: (vocab_size, embedding_dim)"
   ]
  },
  {
   "cell_type": "markdown",
   "metadata": {},
   "source": [
    "위에서 학습시킨 ```word2vector```를 저장시킨다."
   ]
  },
  {
   "cell_type": "code",
   "execution_count": 29,
   "metadata": {},
   "outputs": [],
   "source": [
    "# 학습한 Embedding 파라미터를 파일에 써서 저장\n",
    "word2vec_file_path = os.getenv('HOME')+'/aiffel/sentiment_classification/word2vec.txt'\n",
    "f = open(word2vec_file_path, 'w')\n",
    "f.write('{} {}\\n'.format(vocab_size-4, word_vector_dim)) # 몇개의 벡터를 얼마 사이즈로 기재할지 타이틀작성\n",
    "\n",
    "\n",
    "# 단어 개수(에서 특수문자 4개는 제외하고)만큼의 워드 벡터를 파일에 기록\n",
    "vectors = model.get_weights()[0]\n",
    "for i in range(4,vocab_size):\n",
    "    f.write('{} {}\\n'.format(index_to_word[i], ' '.join(map(str, list(vectors[i, :])))))\n",
    "f.close()"
   ]
  },
  {
   "cell_type": "markdown",
   "metadata": {},
   "source": [
    "```gensim```을 사용해서 학습시킨 ```word2vector```를 사용해서 ```대박```이라는 단어와 연관성이 있는 단어들을 뽑아보았다. 데이터를 엄청난 숫자로 넣은것은 아니라 한계가 있지 않을까 했지만 그래도 긍정적인 평가들을 확인할 수 있었다. "
   ]
  },
  {
   "cell_type": "code",
   "execution_count": 30,
   "metadata": {},
   "outputs": [
    {
     "data": {
      "text/plain": [
       "[('최고', 0.5967438220977783),\n",
       " ('탱고', 0.5753860473632812),\n",
       " ('즐겼', 0.567847490310669),\n",
       " ('멋져요', 0.5638055801391602),\n",
       " ('이제야', 0.5631267428398132),\n",
       " ('담백', 0.5621469020843506),\n",
       " ('웰메이드', 0.5620735883712769),\n",
       " ('진진', 0.5600122809410095),\n",
       " ('여잔데', 0.5600070953369141),\n",
       " ('따스', 0.5576196908950806)]"
      ]
     },
     "execution_count": 30,
     "metadata": {},
     "output_type": "execute_result"
    }
   ],
   "source": [
    "from gensim.models.keyedvectors import Word2VecKeyedVectors\n",
    "\n",
    "word_vectors = Word2VecKeyedVectors.load_word2vec_format(word2vec_file_path, binary=False)\n",
    "word_vectors.similar_by_word(\"대박\")"
   ]
  },
  {
   "cell_type": "markdown",
   "metadata": {},
   "source": [
    "### (9) 한국어 Word2Vec 임베딩 활용하여 성능개선\n",
    "<br> \n",
    "\n",
    "- 적절한 ko.bin을 찾아 이용하고 gensim 버전을 3.x.x로 낮춰야 오류가 일어나지 않음에 유의"
   ]
  },
  {
   "cell_type": "code",
   "execution_count": 31,
   "metadata": {},
   "outputs": [
    {
     "name": "stdout",
     "output_type": "stream",
     "text": [
      "Requirement already satisfied: gensim==3.8.3 in /opt/conda/lib/python3.9/site-packages (3.8.3)\n",
      "Requirement already satisfied: scipy>=0.18.1 in /opt/conda/lib/python3.9/site-packages (from gensim==3.8.3) (1.7.1)\n",
      "Requirement already satisfied: numpy>=1.11.3 in /opt/conda/lib/python3.9/site-packages (from gensim==3.8.3) (1.21.4)\n",
      "Requirement already satisfied: six>=1.5.0 in /opt/conda/lib/python3.9/site-packages (from gensim==3.8.3) (1.16.0)\n",
      "Requirement already satisfied: smart-open>=1.8.1 in /opt/conda/lib/python3.9/site-packages (from gensim==3.8.3) (5.2.1)\n",
      "\u001b[33mWARNING: Running pip as the 'root' user can result in broken permissions and conflicting behaviour with the system package manager. It is recommended to use a virtual environment instead: https://pip.pypa.io/warnings/venv\u001b[0m\n"
     ]
    }
   ],
   "source": [
    "!pip install --upgrade gensim==3.8.3"
   ]
  },
  {
   "cell_type": "code",
   "execution_count": 32,
   "metadata": {},
   "outputs": [
    {
     "data": {
      "text/plain": [
       "'/aiffel/aiffel/sentiment_classification/ko.tsv'"
      ]
     },
     "execution_count": 32,
     "metadata": {},
     "output_type": "execute_result"
    }
   ],
   "source": [
    " os.getenv('HOME')+'/aiffel/sentiment_classification/ko.tsv'"
   ]
  },
  {
   "cell_type": "code",
   "execution_count": 33,
   "metadata": {},
   "outputs": [
    {
     "name": "stderr",
     "output_type": "stream",
     "text": [
      "/tmp/ipykernel_4683/2946491341.py:5: DeprecationWarning: Call to deprecated `__getitem__` (Method will be removed in 4.0.0, use self.wv.__getitem__() instead).\n",
      "  vector = word2vec['영화']\n"
     ]
    },
    {
     "data": {
      "text/plain": [
       "(200,)"
      ]
     },
     "execution_count": 33,
     "metadata": {},
     "output_type": "execute_result"
    }
   ],
   "source": [
    "from gensim.models import KeyedVectors\n",
    "\n",
    "word2vec_path = os.getenv('HOME')+'/aiffel/sentiment_classification/ko.bin'\n",
    "word2vec = gensim.models.Word2Vec.load(word2vec_path)\n",
    "vector = word2vec['영화']\n",
    "vector.shape     # 200dim의 워드 벡터"
   ]
  },
  {
   "cell_type": "code",
   "execution_count": 34,
   "metadata": {},
   "outputs": [
    {
     "data": {
      "text/plain": [
       "[('취미', 0.5857348442077637),\n",
       " ('유머', 0.5140613913536072),\n",
       " ('매력', 0.5105490684509277),\n",
       " ('흥미', 0.4988338351249695),\n",
       " ('공짜', 0.4960595667362213),\n",
       " ('일자리', 0.49294644594192505),\n",
       " ('즐거움', 0.48700767755508423),\n",
       " ('비애', 0.4836210310459137),\n",
       " ('관객', 0.48286449909210205),\n",
       " ('향수', 0.4823310971260071)]"
      ]
     },
     "execution_count": 34,
     "metadata": {},
     "output_type": "execute_result"
    }
   ],
   "source": [
    "# 유사한 단어와 그 유사도 확인\n",
    "word2vec.wv.most_similar(\"재미\")  # 학습이 잘 되어 유사함"
   ]
  },
  {
   "cell_type": "code",
   "execution_count": 35,
   "metadata": {},
   "outputs": [
    {
     "name": "stderr",
     "output_type": "stream",
     "text": [
      "/tmp/ipykernel_4683/3371473685.py:10: DeprecationWarning: Call to deprecated `__contains__` (Method will be removed in 4.0.0, use self.wv.__contains__() instead).\n",
      "  if index_to_word[i] in word2vec:\n",
      "/tmp/ipykernel_4683/3371473685.py:11: DeprecationWarning: Call to deprecated `__getitem__` (Method will be removed in 4.0.0, use self.wv.__getitem__() instead).\n",
      "  embedding_matrix[i] = word2vec[index_to_word[i]]\n"
     ]
    }
   ],
   "source": [
    "from tensorflow.keras.initializers import Constant\n",
    "\n",
    "vocab_size = 10000     # 어휘 사전의 크기(10,000개의 단어)\n",
    "word_vector_dim = 200  # 워드 벡터의 차원수 (변경가능한 하이퍼파라미터)\n",
    "\n",
    "embedding_matrix = np.random.rand(vocab_size, word_vector_dim)\n",
    "\n",
    "# embedding_matrix에 Word2Vec 워드벡터를 단어 하나씩 차례대로 카피\n",
    "for i in range(4,vocab_size):\n",
    "    if index_to_word[i] in word2vec:\n",
    "        embedding_matrix[i] = word2vec[index_to_word[i]]\n",
    "        "
   ]
  },
  {
   "cell_type": "code",
   "execution_count": 36,
   "metadata": {},
   "outputs": [
    {
     "name": "stdout",
     "output_type": "stream",
     "text": [
      "Model: \"sequential_2\"\n",
      "_________________________________________________________________\n",
      "Layer (type)                 Output Shape              Param #   \n",
      "=================================================================\n",
      "embedding_4 (Embedding)      (None, 41, 200)           2000000   \n",
      "_________________________________________________________________\n",
      "lstm_2 (LSTM)                (None, 128)               168448    \n",
      "_________________________________________________________________\n",
      "dropout (Dropout)            (None, 128)               0         \n",
      "_________________________________________________________________\n",
      "dense_8 (Dense)              (None, 1)                 129       \n",
      "=================================================================\n",
      "Total params: 2,168,577\n",
      "Trainable params: 2,168,577\n",
      "Non-trainable params: 0\n",
      "_________________________________________________________________\n"
     ]
    }
   ],
   "source": [
    "# Word2Vec 임베딩 + LSTM 모델 구성\n",
    "model = keras.Sequential()\n",
    "model.add(keras.layers.Embedding(vocab_size, \n",
    "                                 word_vector_dim, \n",
    "                                 embeddings_initializer=Constant(embedding_matrix),  # 카피한 임베딩을 여기서 활용\n",
    "                                 input_length=maxlen, \n",
    "                                 trainable=True))   # trainable을 True로 주면 Fine-tuning\n",
    "model.add(keras.layers.LSTM(128))\n",
    "model.add(keras.layers.Dropout(rate=0.4)) #dropout 추가\n",
    "model.add(keras.layers.Dense(1, activation='sigmoid'))\n",
    "\n",
    "model.summary()"
   ]
  },
  {
   "cell_type": "code",
   "execution_count": 37,
   "metadata": {},
   "outputs": [
    {
     "name": "stderr",
     "output_type": "stream",
     "text": [
      "/tmp/ipykernel_4683/242381.py:1: DeprecationWarning: Call to deprecated `__getitem__` (Method will be removed in 4.0.0, use self.wv.__getitem__() instead).\n",
      "  vector = word2vec['대박']\n"
     ]
    },
    {
     "data": {
      "text/plain": [
       "array([ 0.12250227, -0.26166117,  0.1601894 ,  0.24988233, -0.19694664,\n",
       "        0.20742898,  0.23358916, -0.08032743,  0.07419734,  0.28976992,\n",
       "        0.05920417, -0.24217431,  0.42650384,  0.37083197,  0.01488842,\n",
       "       -0.15399031,  0.21594983,  0.16782928,  0.04716487, -0.3933347 ,\n",
       "        0.06105555, -0.13588727, -0.0257909 , -0.06074918,  0.04168789,\n",
       "        0.34588724,  0.24693313, -0.05122459,  0.16371667,  0.05747311,\n",
       "       -0.12627307, -0.16464052, -0.29741055,  0.17121391, -0.24180788,\n",
       "       -0.28056645, -0.06616814,  0.15681611,  0.20206362, -0.1660444 ,\n",
       "        0.00203782, -0.2563252 , -0.24074501, -0.63730514,  0.35244125,\n",
       "        0.05436644, -0.14913762, -0.06556495, -0.05610788,  0.11254067,\n",
       "       -0.09251513, -0.28059378,  0.07197419,  0.11595767,  0.15117767,\n",
       "       -0.00541334, -0.128903  ,  0.04034068, -0.22690742,  0.00775241,\n",
       "        0.16708778,  0.10937496, -0.17221814,  0.04758313,  0.321897  ,\n",
       "        0.0646909 ,  0.292136  , -0.07984147,  0.09785581,  0.181296  ,\n",
       "        0.17631158,  0.01031382, -0.43260768,  0.01173338,  0.03490037,\n",
       "       -0.0076601 , -0.06428192, -0.2924691 ,  0.24474835,  0.07950445,\n",
       "       -0.09601387, -0.34834263, -0.17978796,  0.23437631, -0.15391289,\n",
       "        0.01297345, -0.04877474, -0.22579618, -0.06827989, -0.266499  ,\n",
       "       -0.18218975, -0.45568773, -0.19330987,  0.09304521,  0.08007847,\n",
       "       -0.08579313, -0.01735996, -0.20058121, -0.11037695, -0.04257905,\n",
       "       -0.01491661,  0.24702635, -0.06080532,  0.07469252,  0.02070692,\n",
       "        0.20998064, -0.12500262, -0.16058917,  0.13576448, -0.01957137,\n",
       "       -0.03530353,  0.02538178,  0.02707971,  0.02211284,  0.4662458 ,\n",
       "       -0.13323712, -0.31756285, -0.26687905, -0.2932379 ,  0.16787444,\n",
       "       -0.00277177,  0.11576287, -0.0071318 ,  0.04130382, -0.0535576 ,\n",
       "        0.5331611 ,  0.15177174,  0.308193  ,  0.12067769, -0.11636538,\n",
       "       -0.16276449, -0.1450912 , -0.07153927,  0.00982432,  0.16283946,\n",
       "        0.16073047, -0.30461156,  0.06590325,  0.18986021,  0.22578666,\n",
       "       -0.10132927,  0.1319676 , -0.28178945,  0.03667555, -0.02295887,\n",
       "       -0.15407115, -0.3441792 , -0.1218596 , -0.3528504 , -0.14319238,\n",
       "       -0.3211591 ,  0.14814556, -0.10278759,  0.23421551,  0.08331902,\n",
       "        0.00759588,  0.39796677, -0.13322656, -0.33425966, -0.2488725 ,\n",
       "        0.22625662, -0.01530029, -0.1754215 ,  0.06301978, -0.09565204,\n",
       "        0.22803056, -0.09959741, -0.08168349,  0.02098079,  0.09322228,\n",
       "       -0.00068385, -0.18893392,  0.2519263 ,  0.05090755,  0.2681667 ,\n",
       "        0.34096426, -0.18010454,  0.16246942,  0.01820518, -0.0705201 ,\n",
       "        0.08623672, -0.01494653, -0.21275468, -0.0316746 ,  0.26614192,\n",
       "        0.02781401,  0.1385179 ,  0.38353992, -0.08111849,  0.10542663,\n",
       "       -0.19549905,  0.01497585,  0.05798322,  0.02531051, -0.04150281,\n",
       "       -0.12611519, -0.05583593, -0.07526224, -0.08963452,  0.0068798 ],\n",
       "      dtype=float32)"
      ]
     },
     "execution_count": 37,
     "metadata": {},
     "output_type": "execute_result"
    }
   ],
   "source": [
    "vector = word2vec['대박']\n",
    "vector"
   ]
  },
  {
   "cell_type": "markdown",
   "metadata": {},
   "source": [
    "위에서 불러온 ```word2vec```를 사용해서 ```embedding_matrix```를 생성해준다."
   ]
  },
  {
   "cell_type": "code",
   "execution_count": 38,
   "metadata": {},
   "outputs": [
    {
     "name": "stderr",
     "output_type": "stream",
     "text": [
      "/tmp/ipykernel_4683/1073688978.py:8: DeprecationWarning: Call to deprecated `__contains__` (Method will be removed in 4.0.0, use self.wv.__contains__() instead).\n",
      "  if index_to_word[i] in word2vec:\n",
      "/tmp/ipykernel_4683/1073688978.py:9: DeprecationWarning: Call to deprecated `__getitem__` (Method will be removed in 4.0.0, use self.wv.__getitem__() instead).\n",
      "  embedding_matrix[i] = word2vec[index_to_word[i]]\n"
     ]
    }
   ],
   "source": [
    "vocab_size = 10000\n",
    "word_vector_dim = 200\n",
    "\n",
    "embedding_matrix = np.random.rand(vocab_size, word_vector_dim)\n",
    "\n",
    "# embedding_matrix에 Word2Vec 워드벡터를 단어 하나씩마다 차례차례 카피한다.\n",
    "for i in range(4,vocab_size):\n",
    "    if index_to_word[i] in word2vec:\n",
    "        embedding_matrix[i] = word2vec[index_to_word[i]]"
   ]
  },
  {
   "cell_type": "code",
   "execution_count": 39,
   "metadata": {},
   "outputs": [
    {
     "name": "stdout",
     "output_type": "stream",
     "text": [
      "Model: \"sequential_3\"\n",
      "_________________________________________________________________\n",
      "Layer (type)                 Output Shape              Param #   \n",
      "=================================================================\n",
      "embedding_5 (Embedding)      (None, 41, 200)           2000000   \n",
      "_________________________________________________________________\n",
      "lstm_3 (LSTM)                (None, 256)               467968    \n",
      "_________________________________________________________________\n",
      "dense_9 (Dense)              (None, 8)                 2056      \n",
      "_________________________________________________________________\n",
      "dense_10 (Dense)             (None, 1)                 9         \n",
      "=================================================================\n",
      "Total params: 2,470,033\n",
      "Trainable params: 2,470,033\n",
      "Non-trainable params: 0\n",
      "_________________________________________________________________\n"
     ]
    }
   ],
   "source": [
    "from keras.initializers import Constant\n",
    "\n",
    "vocab_size = 10000\n",
    "word_vector_dim = 200\n",
    "\n",
    "# 모델 구성\n",
    "model = keras.Sequential()\n",
    "model.add(keras.layers.Embedding(vocab_size, \n",
    "                                 word_vector_dim, \n",
    "                                 embeddings_initializer=Constant(embedding_matrix), \n",
    "                                 input_length=maxlen, \n",
    "                                 trainable=True))   # trainable을 True로 주면 Fine-tuning\n",
    "\n",
    "model.add(keras.layers.LSTM(256))\n",
    "model.add(keras.layers.Dense(8, activation='relu'))\n",
    "model.add(keras.layers.Dense(1, activation='sigmoid'))\n",
    "\n",
    "model.summary()"
   ]
  },
  {
   "cell_type": "code",
   "execution_count": 40,
   "metadata": {},
   "outputs": [
    {
     "name": "stdout",
     "output_type": "stream",
     "text": [
      "Epoch 1/20\n",
      "986/986 [==============================] - 11s 10ms/step - loss: 0.4873 - accuracy: 0.7421 - val_loss: 0.3506 - val_accuracy: 0.8463\n",
      "\n",
      "Epoch 00001: val_accuracy did not improve from 0.86185\n",
      "Epoch 2/20\n",
      "986/986 [==============================] - 10s 10ms/step - loss: 0.3230 - accuracy: 0.8601 - val_loss: 0.3224 - val_accuracy: 0.8589\n",
      "\n",
      "Epoch 00002: val_accuracy did not improve from 0.86185\n",
      "Epoch 3/20\n",
      "986/986 [==============================] - 10s 10ms/step - loss: 0.2777 - accuracy: 0.8832 - val_loss: 0.3091 - val_accuracy: 0.8673\n",
      "\n",
      "Epoch 00003: val_accuracy improved from 0.86185 to 0.86730, saving model to model.h5\n",
      "Epoch 4/20\n",
      "986/986 [==============================] - 10s 10ms/step - loss: 0.2460 - accuracy: 0.8984 - val_loss: 0.3094 - val_accuracy: 0.8695\n",
      "\n",
      "Epoch 00004: val_accuracy improved from 0.86730 to 0.86955, saving model to model.h5\n",
      "Epoch 5/20\n",
      "986/986 [==============================] - 10s 10ms/step - loss: 0.2154 - accuracy: 0.9129 - val_loss: 0.3258 - val_accuracy: 0.8669\n",
      "\n",
      "Epoch 00005: val_accuracy did not improve from 0.86955\n",
      "Epoch 6/20\n",
      "986/986 [==============================] - 10s 10ms/step - loss: 0.1834 - accuracy: 0.9280 - val_loss: 0.3513 - val_accuracy: 0.8624\n",
      "\n",
      "Epoch 00006: val_accuracy did not improve from 0.86955\n",
      "Epoch 00006: early stopping\n"
     ]
    }
   ],
   "source": [
    "# 학습의 진행\n",
    "model.compile(optimizer=tf.keras.optimizers.Adam(learning_rate=0.0005),\n",
    "              loss='binary_crossentropy',\n",
    "              metrics=['accuracy'])\n",
    "              \n",
    "epochs=20\n",
    "\n",
    "history = model.fit(partial_X_train,\n",
    "                    partial_y_train,\n",
    "                    epochs=epochs,\n",
    "                    batch_size=128,\n",
    "                    validation_data=(x_val, y_val),\n",
    "                    verbose=1,\n",
    "                   callbacks=[early_stopping, model_check])"
   ]
  },
  {
   "cell_type": "code",
   "execution_count": 41,
   "metadata": {},
   "outputs": [
    {
     "name": "stdout",
     "output_type": "stream",
     "text": [
      "1537/1537 - 3s - loss: 0.3571 - accuracy: 0.8596\n",
      "[0.35708680748939514, 0.8595724105834961]\n"
     ]
    }
   ],
   "source": [
    "# 테스트셋을 통한 모델 평가\n",
    "results = model.evaluate(X_test,  y_test, verbose=2)\n",
    "\n",
    "print(results)"
   ]
  },
  {
   "cell_type": "markdown",
   "metadata": {},
   "source": [
    "```validation accuracy```가 증가한 것을 확인할 수 있다 \n",
    "그래프로 시각화도 해보았다."
   ]
  },
  {
   "cell_type": "code",
   "execution_count": 42,
   "metadata": {},
   "outputs": [
    {
     "name": "stdout",
     "output_type": "stream",
     "text": [
      "dict_keys(['loss', 'accuracy', 'val_loss', 'val_accuracy'])\n"
     ]
    },
    {
     "data": {
      "image/png": "[encoded data removed]",
      "text/plain": [
       "<Figure size 432x288 with 1 Axes>"
      ]
     },
     "metadata": {
      "needs_background": "light"
     },
     "output_type": "display_data"
    }
   ],
   "source": [
    "# 시각화할 항목 세팅 \n",
    "history_dict = history.history\n",
    "print(history_dict.keys())\n",
    "\n",
    "# 시각화 시도\n",
    "acc = history_dict['accuracy']\n",
    "val_acc = history_dict['val_accuracy']\n",
    "loss = history_dict['loss']\n",
    "val_loss = history_dict['val_loss']\n",
    "\n",
    "epochs = range(1, len(acc) + 1)\n",
    "\n",
    "# 빨간 실선으로 표시\n",
    "plt.plot(epochs, loss, 'r', label='Training loss')\n",
    "# 파란 실선으로 표시\n",
    "plt.plot(epochs, val_loss, 'b', label='Validation loss')\n",
    "plt.title('Training and validation loss')\n",
    "plt.xlabel('Epochs')\n",
    "plt.ylabel('Loss')\n",
    "plt.grid()\n",
    "plt.legend()\n",
    "\n",
    "plt.show()"
   ]
  },
  {
   "cell_type": "markdown",
   "metadata": {},
   "source": [
    "## 결론 및 회고 "
   ]
  },
  {
   "cell_type": "markdown",
   "metadata": {},
   "source": [
    "- 다음의 세가지의 모델을 사용해보았고 그 중에서 제일 높은 정확도를 성취한 LSTM 으로 선택하여 모델구조를 찾았다. \n",
    "    1. ```1D CNN``` (시계열분석, text 분석을 하는데 사용되는 신경망)\n",
    "    2. ```LSTM``` (기존의 RNN의 단점을 보완하여 장기, 단기 기억을 가능하게 설계된 신경망) \n",
    "    3. ```GlobalMaxPooling1D``` (여러개의 벡터 중 가장 큰 벡터를 반환하며 문맥을 보고 주요 특징을 뽑아낸다) \n",
    "    \n",
    "    \n",
    "- LSTM모델 앞에 CNN을 추가하면 성능이 더 나빠졌고 LSTM층을 하나 더 추가할 경우 결과는 크게 달라지지 않았지만 학습 곡선이 다르게 나타나는 것을 확인 할 수 있었다. \n",
    "- 간단하게 LSTM 레이어 하나만을 사용해서 하이퍼파라미터를 튜닝해보도록 하였다. \n",
    "- 정확도는 ```0.852``` -> ```0.857``` 으로 성능 향상\n",
    "\n",
    "- 학습한 임베딩 결과 확인\n",
    "    - '대박'이라는 단어를 통해서 유사단어를 찾아 보았다.\n",
    "    - 대부분 영화리뷰로써 긍정적인 평가를 한 결과가 나왔다.\n",
    "\n",
    "- 사전 학습된 워드임베딩적용 후 같은 파라미터로 학습 : \n",
    "    - 정확도 ```0.857``` -> ```0.860``` 로 성능 향상된 것을 확인했다.\n",
    "    \n",
    "    \n",
    "- 학습한 임베딩 결과, 대박이라는 단어를 통하서 유사단어를 찾아보았고 긍정적인 결과를 얻었다. 네이버 영화리뷰 데이터 감성분석 정확도는 85% 이상을 달성하였지만 좀 더 90% 또는 그 이상이 되려면 어떻게 해야할지가 궁금해졌고 앞으로 node 과정을 더 진행하면서 알아갈 수 있길 기대한다. "
   ]
  }
 ],
 "metadata": {
  "kernelspec": {
   "display_name": "Python 3 (ipykernel)",
   "language": "python",
   "name": "python3"
  },
  "language_info": {
   "codemirror_mode": {
    "name": "ipython",
    "version": 3
   },
   "file_extension": ".py",
   "mimetype": "text/x-python",
   "name": "python",
   "nbconvert_exporter": "python",
   "pygments_lexer": "ipython3",
   "version": "3.9.7"
  },
  "toc": {
   "base_numbering": 1,
   "nav_menu": {},
   "number_sections": true,
   "sideBar": true,
   "skip_h1_title": false,
   "title_cell": "Table of Contents",
   "title_sidebar": "Contents",
   "toc_cell": false,
   "toc_position": {},
   "toc_section_display": true,
   "toc_window_display": false
  }
 },
 "nbformat": 4,
 "nbformat_minor": 4
}
