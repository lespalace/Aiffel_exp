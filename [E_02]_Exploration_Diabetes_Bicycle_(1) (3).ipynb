{
  "cells": [
    {
      "cell_type": "markdown",
      "id": "90f1d447",
      "metadata": {
        "id": "90f1d447"
      },
      "source": [
        "# 1. Diabetes \n",
        "\n",
        "## (1) 라이브러리 import\n",
        "\n"
      ]
    },
    {
      "cell_type": "code",
      "execution_count": null,
      "id": "06e7dc61",
      "metadata": {
        "id": "06e7dc61"
      },
      "outputs": [],
      "source": [
        "import numpy as np\n",
        "import pandas as pd\n",
        "import matplotlib.pyplot as plt\n",
        "import seaborn as sns\n",
        "from sklearn.datasets import load_diabetes\n",
        "from sklearn.model_selection import train_test_split"
      ]
    },
    {
      "cell_type": "markdown",
      "id": "7e28c524",
      "metadata": {
        "id": "7e28c524"
      },
      "source": [
        "## (2) 데이터 확인 "
      ]
    },
    {
      "cell_type": "code",
      "execution_count": null,
      "id": "3ed2d0bf",
      "metadata": {
        "id": "3ed2d0bf"
      },
      "outputs": [],
      "source": [
        "diabetes_data = load_diabetes()"
      ]
    },
    {
      "cell_type": "code",
      "source": [
        "dir(diabetes_data)"
      ],
      "metadata": {
        "id": "7884CbrMJ1ZH"
      },
      "id": "7884CbrMJ1ZH",
      "execution_count": null,
      "outputs": []
    },
    {
      "cell_type": "code",
      "execution_count": null,
      "id": "e4d7f2f0",
      "metadata": {
        "id": "e4d7f2f0"
      },
      "outputs": [],
      "source": [
        "df_X = diabetes_data['data']\n",
        "df_y = diabetes_data['target']\n",
        "df_X.shape, df_y.shape"
      ]
    },
    {
      "cell_type": "code",
      "execution_count": null,
      "id": "df080346",
      "metadata": {
        "id": "df080346"
      },
      "outputs": [],
      "source": [
        "df = pd.DataFrame(df_X, columns=diabetes_data['feature_names'])\n",
        "sns.pairplot(df)"
      ]
    },
    {
      "cell_type": "markdown",
      "source": [
        "## (3) 데이터 준비하기\n"
      ],
      "metadata": {
        "id": "ZmR0wKlbJ_01"
      },
      "id": "ZmR0wKlbJ_01"
    },
    {
      "cell_type": "code",
      "execution_count": null,
      "id": "8b88794e",
      "metadata": {
        "id": "8b88794e"
      },
      "outputs": [],
      "source": [
        "df_X = np.array(df_X)\n",
        "df_y = np.array(df_y)"
      ]
    },
    {
      "cell_type": "code",
      "execution_count": null,
      "id": "507ee327",
      "metadata": {
        "id": "507ee327"
      },
      "outputs": [],
      "source": [
        "train_X, test_X, train_y, test_y = train_test_split(df_X, df_y, test_size = 0.2, random_state=94)"
      ]
    },
    {
      "cell_type": "code",
      "execution_count": null,
      "id": "e6d6bd47",
      "metadata": {
        "id": "e6d6bd47"
      },
      "outputs": [],
      "source": [
        "print(train_X.shape, train_y.shape)\n",
        "print(test_X.shape, test_y.shape)"
      ]
    },
    {
      "cell_type": "markdown",
      "source": [
        "## (4) 모델 준비\n",
        "\n",
        "- W, b 초기화 \n",
        "- 모델 정의 \n",
        "- loss 정의 = > MSE 함수로 정의 \n",
        "- Gradient 함수 구현 "
      ],
      "metadata": {
        "id": "wD9qSF49KGl-"
      },
      "id": "wD9qSF49KGl-"
    },
    {
      "cell_type": "code",
      "execution_count": null,
      "id": "0699911d",
      "metadata": {
        "id": "0699911d"
      },
      "outputs": [],
      "source": [
        "_, l = train_X.shape\n",
        "W = np.random.rand(l)\n",
        "b = np.random.rand()\n",
        "W, b"
      ]
    },
    {
      "cell_type": "code",
      "execution_count": null,
      "id": "1dee9f09",
      "metadata": {
        "id": "1dee9f09"
      },
      "outputs": [],
      "source": [
        "def model(X, W, b) :\n",
        "    predictions = 0\n",
        "#     for i in range(l):\n",
        "#         predictions += X[:, i] * W[i]\n",
        "#     predictions += b\n",
        "    predictions = np.sum([X[:, i] * W[i] for i in range(l)], axis=0) + b\n",
        "    \n",
        "    return predictions"
      ]
    },
    {
      "cell_type": "code",
      "execution_count": null,
      "id": "07f49c8c",
      "metadata": {
        "id": "07f49c8c"
      },
      "outputs": [],
      "source": [
        "def MSE(a, b):\n",
        "    mse = ((a - b) ** 2).mean()  # 두 값의 차이의 제곱의 평균\n",
        "    return mse"
      ]
    },
    {
      "cell_type": "code",
      "execution_count": null,
      "id": "36d631e5",
      "metadata": {
        "id": "36d631e5"
      },
      "outputs": [],
      "source": [
        "def loss(X, W, b, y):\n",
        "    predictions = model(X, W, b)\n",
        "    L = MSE(predictions, y)\n",
        "    return L"
      ]
    },
    {
      "cell_type": "code",
      "execution_count": null,
      "id": "5c364f02",
      "metadata": {
        "id": "5c364f02"
      },
      "outputs": [],
      "source": [
        "def gradient(X, W, b, y) :\n",
        "    N = len(X)\n",
        "    \n",
        "    y_pred = model(X, W, b)\n",
        "    \n",
        "    dW = 1/N * 2 * X.T.dot(y_pred-y)\n",
        "    db = 2 * (y_pred-y).mean()\n",
        "    \n",
        "    return dW, db"
      ]
    },
    {
      "cell_type": "code",
      "execution_count": null,
      "id": "32d87578",
      "metadata": {
        "id": "32d87578"
      },
      "outputs": [],
      "source": [
        "dW, db = gradient(df_X, W, b, df_y)\n",
        "print(\"dW:\", dW)\n",
        "print(\"db:\", db)"
      ]
    },
    {
      "cell_type": "markdown",
      "source": [
        "## (5) 학습\n",
        "- Learning Rate는 0.1으로 설정.\n",
        "- Iteration횟수는 충분히 많이 준다.\n",
        "- MSE의 값이 3000 이하의 점수가 나올 때, 10번정도 checks 리스트에 저장을 한 후, 반복문을 종료한다.\n",
        "- 이후 checks 리스트를 iteration 횟수와 함께 MSE 값을 출력해준다."
      ],
      "metadata": {
        "id": "BC7eReVqKX7_"
      },
      "id": "BC7eReVqKX7_"
    },
    {
      "cell_type": "code",
      "execution_count": null,
      "id": "1ce13c32",
      "metadata": {
        "id": "1ce13c32"
      },
      "outputs": [],
      "source": [
        "LEARNING_RATE = 0.1"
      ]
    },
    {
      "cell_type": "code",
      "execution_count": null,
      "id": "eb8d422d",
      "metadata": {
        "id": "eb8d422d"
      },
      "outputs": [],
      "source": [
        "losses = []\n",
        "checks = []\n",
        "\n",
        "for i in range(1, 100001):\n",
        "    dW, db = gradient(train_X, W, b, train_y)\n",
        "    W -= LEARNING_RATE * dW\n",
        "    b -= LEARNING_RATE * db\n",
        "    L = loss(df_X, W, b, df_y)\n",
        "    losses.append(L)\n",
        "    if i%10 == 0 :\n",
        "        print('Iteration %d : Loss %0.4f' % (i, L))\n",
        "    if L <= 3000 :\n",
        "        checks.append((i, L))\n",
        "        if len(checks) == 10:\n",
        "            break"
      ]
    },
    {
      "cell_type": "code",
      "execution_count": null,
      "id": "f6e724bd",
      "metadata": {
        "id": "f6e724bd"
      },
      "outputs": [],
      "source": [
        "print(\"MSE 3000이하\\n\"+'-'*30)\n",
        "for num, score in checks :\n",
        "    print(\"Iteration {} : Loss : {:.4f}\".format(num, score))"
      ]
    },
    {
      "cell_type": "markdown",
      "source": [
        "## (6) 결과 예측 및 그래프 그리기 \n"
      ],
      "metadata": {
        "id": "BZQ_y0keK4Mn"
      },
      "id": "BZQ_y0keK4Mn"
    },
    {
      "cell_type": "code",
      "execution_count": null,
      "id": "58cb3b28",
      "metadata": {
        "id": "58cb3b28"
      },
      "outputs": [],
      "source": [
        " plt.plot(losses)\n",
        "plt.show()"
      ]
    },
    {
      "cell_type": "code",
      "execution_count": null,
      "id": "4ad59e5b",
      "metadata": {
        "id": "4ad59e5b"
      },
      "outputs": [],
      "source": [
        "prediction = model(test_X, W, b)\n",
        "mse = loss(test_X, W, b, test_y)\n",
        "mse"
      ]
    },
    {
      "cell_type": "code",
      "execution_count": null,
      "id": "66ca14c0",
      "metadata": {
        "id": "66ca14c0"
      },
      "outputs": [],
      "source": [
        "test_X.shape, test_y.shape\n",
        "type(test_y)"
      ]
    },
    {
      "cell_type": "code",
      "execution_count": null,
      "id": "99c2b023",
      "metadata": {
        "scrolled": true,
        "id": "99c2b023"
      },
      "outputs": [],
      "source": [
        "plt.style.use('ggplot')\n",
        "plt.figure(figsize=(15, 10))\n",
        "plt.scatter(test_X[:, 0], test_y, label=\"label\")\n",
        "plt.scatter(test_X[:, 0], prediction, label=\"pred\")\n",
        "plt.legend()\n",
        "\n",
        "plt.show()"
      ]
    },
    {
      "cell_type": "markdown",
      "id": "86afc337",
      "metadata": {
        "id": "86afc337"
      },
      "source": [
        "# 월요일 오후 3시, 자전거 타기 \n",
        "\n",
        "## (1) import\n"
      ]
    },
    {
      "cell_type": "code",
      "execution_count": null,
      "id": "9513aba9",
      "metadata": {
        "id": "9513aba9"
      },
      "outputs": [],
      "source": [
        "from sklearn.linear_model import LinearRegression\n",
        "from sklearn.metrics import mean_squared_error\n",
        "import matplotlib.pyplot as plt"
      ]
    },
    {
      "cell_type": "markdown",
      "id": "b5c67050",
      "metadata": {
        "id": "b5c67050"
      },
      "source": [
        "## (2) 데이터 준비 \n",
        "- train.csv\n",
        "- test.csv\n",
        "- sampleSubmission.csv \n",
        "불러오기 \n"
      ]
    },
    {
      "cell_type": "code",
      "execution_count": null,
      "metadata": {
        "colab": {
          "resources": {
            "http://localhost:8080/nbextensions/google.colab/files.js": {
              "data": "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",
              "ok": true,
              "headers": [
                [
                  "content-type",
                  "application/javascript"
                ]
              ],
              "status": 200,
              "status_text": ""
            }
          },
          "base_uri": "https://localhost:8080/",
          "height": 42
        },
        "id": "XO0LToYL83pv",
        "outputId": "2d302ecc-37e1-4914-8099-c496a8b915f9"
      },
      "outputs": [
        {
          "data": {
            "text/html": [
              "\n",
              "     <input type=\"file\" id=\"files-e392d8fd-a642-4e13-b8a5-1d4f393eb062\" name=\"files[]\" multiple disabled\n",
              "        style=\"border:none\" />\n",
              "     <output id=\"result-e392d8fd-a642-4e13-b8a5-1d4f393eb062\">\n",
              "      Upload widget is only available when the cell has been executed in the\n",
              "      current browser session. Please rerun this cell to enable.\n",
              "      </output>\n",
              "      <script src=\"/nbextensions/google.colab/files.js\"></script> "
            ],
            "text/plain": [
              "<IPython.core.display.HTML object>"
            ]
          },
          "metadata": {},
          "output_type": "display_data"
        }
      ],
      "source": [
        "import pandas as pd \n",
        "from google.colab import files \n",
        "files.upload()"
      ],
      "id": "XO0LToYL83pv"
    },
    {
      "cell_type": "code",
      "source": [
        "train = pd.read_csv('train.csv')\n",
        "\n",
        "train.head()\n"
      ],
      "metadata": {
        "id": "jKlIqfbO8_QS"
      },
      "execution_count": null,
      "outputs": [],
      "id": "jKlIqfbO8_QS"
    },
    {
      "cell_type": "code",
      "execution_count": null,
      "id": "b197b7e9",
      "metadata": {
        "id": "b197b7e9"
      },
      "outputs": [],
      "source": [
        ""
      ]
    },
    {
      "cell_type": "code",
      "source": [
        "test = pd.read_csv('test.csv')\n",
        "\n",
        "test"
      ],
      "metadata": {
        "id": "5hgWfzyb9j6-"
      },
      "execution_count": null,
      "outputs": [],
      "id": "5hgWfzyb9j6-"
    },
    {
      "cell_type": "markdown",
      "source": [
        "- 데이터 분포 시각화 "
      ],
      "metadata": {
        "id": "pfgLvbXlvqF5"
      },
      "id": "pfgLvbXlvqF5"
    },
    {
      "cell_type": "code",
      "execution_count": null,
      "id": "f340f049",
      "metadata": {
        "id": "f340f049"
      },
      "outputs": [],
      "source": [
        "sns.pairplot(train)\n"
      ]
    },
    {
      "cell_type": "markdown",
      "source": [
        "## datetime 컬럼을 datetime 자료형으로 변환"
      ],
      "metadata": {
        "id": "yfmAC4l6vxdZ"
      },
      "id": "yfmAC4l6vxdZ"
    },
    {
      "cell_type": "code",
      "source": [
        "train['datetime'] = pd.to_datetime(train['datetime'])\n",
        "train.head()\n"
      ],
      "metadata": {
        "id": "6_Fjwnwx_P6W"
      },
      "id": "6_Fjwnwx_P6W",
      "execution_count": null,
      "outputs": []
    },
    {
      "cell_type": "code",
      "source": [
        "date_col = ['year', 'month', 'day', 'hour', 'minute', 'second']\n",
        "\n",
        "for col_name in date_col :\n",
        "    \n",
        "    if col_name == 'year':\n",
        "        train[col_name] = train['datetime'].dt.year\n",
        "    elif col_name == 'month':\n",
        "        train[col_name] = train['datetime'].dt.month\n",
        "    elif col_name == 'day':\n",
        "        train[col_name] = train['datetime'].dt.day\n",
        "    elif col_name == 'hour':\n",
        "        train[col_name] = train['datetime'].dt.hour\n",
        "    elif col_name == 'minute':\n",
        "        train[col_name] = train['datetime'].dt.minute\n",
        "    elif col_name == 'second':\n",
        "        train[col_name] = train['datetime'].dt.second\n",
        "        \n",
        "# map(lambda) 사용하기 => dt빼고\n",
        "\n",
        "train.head()"
      ],
      "metadata": {
        "id": "pNMFCkblATCL"
      },
      "id": "pNMFCkblATCL",
      "execution_count": null,
      "outputs": []
    },
    {
      "cell_type": "markdown",
      "source": [
        "## 데이터 개수 시각화 \n",
        "\n",
        "- sms.countplt, subplot 활용\n",
        "- month,. day, hour 는 막대 그래프 상위에 값 출력\n"
      ],
      "metadata": {
        "id": "hY5TSbw1TifQ"
      },
      "id": "hY5TSbw1TifQ"
    },
    {
      "cell_type": "code",
      "source": [
        "plt.figure(figsize=(30, 20))\n",
        "for i in range(len(date_col)) :\n",
        "    plt.subplot(3, 2, i+1)\n",
        "    ax = sns.countplot(train[date_col[i]])\n",
        "    \n",
        "    if i not in  [0, 4, 5]:\n",
        "        for p in ax.patches:\n",
        "            ax.annotate('{}'.format(p.get_height()), (p.get_x()+0.1, p.get_height()+10))"
      ],
      "metadata": {
        "id": "lXD1MEQqAgZu"
      },
      "id": "lXD1MEQqAgZu",
      "execution_count": null,
      "outputs": []
    },
    {
      "cell_type": "markdown",
      "source": [
        "## 데이터 분리 \n",
        "- info() 를 통해 문자열 데이터인지를 확인\n",
        "- train ['datetime'].dt.weekday 활용, 요일에 대한 정보 추가 \n",
        "- 학습 데이터 및 RMSE 값:\n",
        "\n",
        "- 요일, 시간, 날씨 : 167.031365422865\n",
        "\n",
        "- 요일, 시간, 날씨 + temp : 155.26878251118987\n",
        "\n",
        "- 요일, 시간, 날씨 + humidity : 163.28265800809078\n",
        "\n",
        "- 요일, 시간, 날씨 + humidity + temp,atemp + season : 149.625184945586\n"
      ],
      "metadata": {
        "id": "9UYhPb_Tw6eD"
      },
      "id": "9UYhPb_Tw6eD"
    },
    {
      "cell_type": "code",
      "source": [
        "train.info()"
      ],
      "metadata": {
        "id": "vSyzdt5gA58c"
      },
      "id": "vSyzdt5gA58c",
      "execution_count": null,
      "outputs": []
    },
    {
      "cell_type": "code",
      "source": [
        "# 요일 정보\n",
        "train['datetime'].dt.weekday"
      ],
      "metadata": {
        "id": "baC6rRLdA9i0"
      },
      "id": "baC6rRLdA9i0",
      "execution_count": null,
      "outputs": []
    },
    {
      "cell_type": "markdown",
      "source": [
        "# (3) 학습 및 예측\n",
        "\n",
        "## model_train 함수 작성 \n",
        "- train_test_split 을 사용하여 데이터셋 나누기 \n",
        "- LinearRegression 모델 생성 \n",
        "- 학습 \n",
        "- 예측 및 확인 "
      ],
      "metadata": {
        "id": "Xb_bxParxsnc"
      },
      "id": "Xb_bxParxsnc"
    },
    {
      "cell_type": "code",
      "source": [
        "def model_train(X, y) :\n",
        "    \n",
        "    X_train, X_test, y_train, y_test = train_test_split(X, y, test_size=0.2, random_state=94)\n",
        "    \n",
        "    model = LinearRegression()\n",
        "    model.fit(X_train, y_train)\n",
        "\n",
        "    \n",
        "    y_pred = model.predict(X_test)\n",
        "    score = mean_squared_error(y_test, y_pred)\n",
        "    \n",
        "    return score, np.sqrt(score)\n",
        "\n"
      ],
      "metadata": {
        "id": "XgyGAk_nBACR"
      },
      "id": "XgyGAk_nBACR",
      "execution_count": null,
      "outputs": []
    },
    {
      "cell_type": "code",
      "source": [
        "# 요일 시간 날씨\n",
        "day = train['datetime'].dt.weekday\n",
        "X = pd.concat([train['hour'], train['weather'], train['datetime'].dt.weekday], axis=1, ignore_index=False)\n",
        "y = train['count']"
      ],
      "metadata": {
        "id": "Nv8KdDw0D001"
      },
      "id": "Nv8KdDw0D001",
      "execution_count": null,
      "outputs": []
    },
    {
      "cell_type": "code",
      "source": [
        "X"
      ],
      "metadata": {
        "id": "RlBi9w5MIj-N"
      },
      "id": "RlBi9w5MIj-N",
      "execution_count": null,
      "outputs": []
    },
    {
      "cell_type": "code",
      "source": [
        "mse_score, rmse_score = model_train(X, y)\n",
        "print(\"MSE : {:.4f}\\nRMSE : {:.4f}\".format(mse_score, rmse_score))"
      ],
      "metadata": {
        "id": "WuS7kE1HD2ve"
      },
      "id": "WuS7kE1HD2ve",
      "execution_count": null,
      "outputs": []
    },
    {
      "cell_type": "code",
      "source": [
        "# 요일 시간 날씨 + temp\n",
        "X = pd.concat([train['hour'], train['weather'], train['datetime'].dt.weekday, train['temp']], axis=1, ignore_index=False)\n",
        "X"
      ],
      "metadata": {
        "id": "LSKZCal_D4ao"
      },
      "id": "LSKZCal_D4ao",
      "execution_count": null,
      "outputs": []
    },
    {
      "cell_type": "code",
      "source": [
        "mse_score, rmse_score = model_train(X, y)\n",
        "print(\"MSE : {:.4f}\\nRMSE : {:.4f}\".format(mse_score, rmse_score))"
      ],
      "metadata": {
        "id": "qUyR9eiND62t"
      },
      "id": "qUyR9eiND62t",
      "execution_count": null,
      "outputs": []
    },
    {
      "cell_type": "code",
      "source": [
        "# 요일 시간 날씨 + humidity\n",
        "X = pd.concat([train['hour'], train['weather'], train['datetime'].dt.weekday, train['humidity']], axis=1, ignore_index=False)\n",
        "X "
      ],
      "metadata": {
        "id": "UrTB0l6aD9N5"
      },
      "id": "UrTB0l6aD9N5",
      "execution_count": null,
      "outputs": []
    },
    {
      "cell_type": "code",
      "source": [
        "mse_score, rmse_score = model_train(X, y)\n",
        "print(\"MSE : {:.4f}\\nRMSE : {:.4f}\".format(mse_score, rmse_score))"
      ],
      "metadata": {
        "id": "ooTKJcVMD-uP"
      },
      "id": "ooTKJcVMD-uP",
      "execution_count": null,
      "outputs": []
    },
    {
      "cell_type": "code",
      "source": [
        "# 요일 시간 날씨 + humidity + temp\n",
        "X = pd.concat([train['hour'], train['weather'], train['datetime'].dt.weekday, train['humidity'], train['temp']], axis=1, ignore_index=False)\n",
        "X"
      ],
      "metadata": {
        "id": "OIjpxhaiEAij"
      },
      "id": "OIjpxhaiEAij",
      "execution_count": null,
      "outputs": []
    },
    {
      "cell_type": "code",
      "source": [
        "mse_score, rmse_score = model_train(X, y)\n",
        "print(\"MSE : {:.4f}\\nRMSE : {:.4f}\".format(mse_score, rmse_score))"
      ],
      "metadata": {
        "id": "UjEKY3yXEDVK"
      },
      "id": "UjEKY3yXEDVK",
      "execution_count": null,
      "outputs": []
    },
    {
      "cell_type": "code",
      "source": [
        "# 요일 시간 날씨 + humidity + temp, atemp + season\n",
        "X = pd.concat([train['hour'], train['weather'], train['datetime'].dt.weekday, train['humidity'], train['temp'], train['atemp'], train['season']], axis=1, ignore_index=False)\n",
        "X"
      ],
      "metadata": {
        "id": "Uv8T0FwqEE1d"
      },
      "id": "Uv8T0FwqEE1d",
      "execution_count": null,
      "outputs": []
    },
    {
      "cell_type": "code",
      "source": [
        "mse_score, rmse_score = model_train(X, y)\n",
        "print(\"MSE : {:.4f}\\nRMSE : {:.4f}\".format(mse_score, rmse_score))  "
      ],
      "metadata": {
        "id": "4_mae6KCEG2E"
      },
      "id": "4_mae6KCEG2E",
      "execution_count": null,
      "outputs": []
    },
    {
      "cell_type": "markdown",
      "source": [
        "# 예측결과 시각화 \n",
        "\n",
        "- 결과 중 가장 낮은 예측 결과로 사용 \n",
        "\n",
        "- x축 : X 데이터 중 temp데이터 / y축 : count\n",
        "- x축 : X 데이터 중 humidity데이터 / y축 : count"
      ],
      "metadata": {
        "id": "yQVxzncD0YVW"
      },
      "id": "yQVxzncD0YVW"
    },
    {
      "cell_type": "code",
      "source": [
        "plt.style.use('ggplot')\n",
        "plt.figure(figsize=(15, 10))\n",
        "plt.scatter(y_test, X_test['temp'], label=\"label\")\n",
        "plt.scatter(y_pred, X_test['temp'], label=\"pred\")\n",
        "plt.legend()\n",
        "\n",
        "plt.show()"
      ],
      "metadata": {
        "id": "ymqzWj5rEIUf"
      },
      "id": "ymqzWj5rEIUf",
      "execution_count": null,
      "outputs": []
    },
    {
      "cell_type": "code",
      "source": [
        "plt.style.use('ggplot')\n",
        "plt.figure(figsize=(15, 10))\n",
        "plt.scatter(y_test, X_test['humidity'], label=\"label\")\n",
        "plt.scatter(y_pred, X_test['humidity'], label=\"pred\")\n",
        "plt.legend()\n",
        "\n",
        "plt.show()"
      ],
      "metadata": {
        "id": "CVWoPc2aESSs"
      },
      "id": "CVWoPc2aESSs",
      "execution_count": null,
      "outputs": []
    },
    {
      "cell_type": "code",
      "source": [
        ""
      ],
      "metadata": {
        "id": "Y5K8ZXFdNGaZ"
      },
      "id": "Y5K8ZXFdNGaZ",
      "execution_count": null,
      "outputs": []
    },
    {
      "cell_type": "markdown",
      "source": [
        "# 회고 \n",
        "\n",
        "\n",
        "## 당뇨병 예측 \n",
        "\n",
        "- Learning Rate 은 0.1 로 설정 \n",
        "- loss : MSE\n",
        "- iteration 2851회 부터 MSE 손실함수값은 3000 이하로 떨어짐을 확인 : 예측데이터 시각화 \n",
        "- test 데이터에 대한 성능 : 2870.4427694147507\n",
        "\n",
        "\n",
        "\n",
        "\n",
        "\n",
        "## 자전거 \n",
        "\n",
        "### - 학습 데이터 별 RMSE값\n",
        "\n",
        "- 요일, hour, weather : RMSE = 155.2688\n",
        "\n",
        "- 요일, hour, weather, tmp : RMSE = 155.2688\n",
        "\n",
        "- 요일, hour, weather, humidity : RMSE = 163.2827\n",
        "\n",
        "- 요일, hour, weather, humidity, temp : RMSE = 151.4418\n",
        "\n",
        "- 요일, hour, weather, humidity, temp, atemp, season : RMSE =  149.6252\n",
        "\n",
        "\n",
        "- 5번째 학습데이터 RMSE 값 150 이하를 달성 : 예측 결과 데이터 시각화\n",
        "\n",
        "-     1. x축 : X 데이터 중 temp데이터 / y축 : count\n",
        "\n",
        "-     2. x축 : X 데이터 중 humidity데이터 / y축 : count\n",
        "\n",
        "\n"
      ],
      "metadata": {
        "id": "yNPtixGZ3NON"
      },
      "id": "yNPtixGZ3NON"
    },
    {
      "cell_type": "markdown",
      "metadata": {
        "id": "-glM3fzP3Tuy"
      },
      "source": [
        ""
      ],
      "id": "-glM3fzP3Tuy"
    }
  ],
  "metadata": {
    "kernelspec": {
      "display_name": "Python 3 (ipykernel)",
      "language": "python",
      "name": "python3"
    },
    "language_info": {
      "codemirror_mode": {
        "name": "ipython",
        "version": 3
      },
      "file_extension": ".py",
      "mimetype": "text/x-python",
      "name": "python",
      "nbconvert_exporter": "python",
      "pygments_lexer": "ipython3",
      "version": "3.9.7"
    },
    "colab": {
      "name": "[E_02]_Exploration_Diabetes_Bicycle (1).ipynb",
      "provenance": [],
      "collapsed_sections": []
    }
  },
  "nbformat": 4,
  "nbformat_minor": 5
}