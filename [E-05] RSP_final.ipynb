{
 "cells": [
  {
   "cell_type": "markdown",
   "id": "ca0967a5",
   "metadata": {},
   "source": [
    "# 5. 가위바위보 분류기 만들기\n",
    "\n",
    "\n",
    "### 목표  \n",
    "- 이미지 분류기를 keras 를 활용하여 제작하기 \n",
    "- 오버피팅을 극복하기 위해 적절한 시도 (데이터셋 다양화, 정규화 등) 해보기\n",
    "- 분류모델의 test accuracy 60% 이상 달성하기 \n"
   ]
  },
  {
   "cell_type": "markdown",
   "id": "b680d7d2",
   "metadata": {},
   "source": [
    "## (1) 라이브러리 import "
   ]
  },
  {
   "cell_type": "code",
   "execution_count": 1,
   "id": "730937e0",
   "metadata": {},
   "outputs": [],
   "source": [
    "import tensorflow as tf\n",
    "import matplotlib.pyplot as plt\n",
    "from tensorflow import keras\n",
    "import pandas as pd\n",
    "import numpy as np\n",
    "from PIL import Image\n",
    "import os\n",
    "import glob\n"
   ]
  },
  {
   "cell_type": "markdown",
   "id": "d362bafa",
   "metadata": {},
   "source": [
    "## (2) 데이터 불러오기 + Resize 하기 \n",
    "\n",
    "- 가위 바위 보 차례대로 28 x 28 사이즈로 변경"
   ]
  },
  {
   "cell_type": "code",
   "execution_count": 2,
   "id": "81424d2d",
   "metadata": {},
   "outputs": [
    {
     "name": "stdout",
     "output_type": "stream",
     "text": [
      "100  images to be resized.\n",
      "100  images resized.\n",
      "가위 이미지 resize 완료!\n"
     ]
    }
   ],
   "source": [
    "def resize_images(img_path):\n",
    "\timages=glob.glob(img_path + \"/*.jpg\")  \n",
    "    \n",
    "\tprint(len(images), \" images to be resized.\")\n",
    "\n",
    "    # 파일마다 모두 28x28 사이즈로 바꾸어 저장\n",
    "\ttarget_size=(28,28)\n",
    "\tfor img in images:\n",
    "\t\told_img=Image.open(img)\n",
    "\t\tnew_img=old_img.resize(target_size,Image.ANTIALIAS)\n",
    "\t\tnew_img.save(img, \"JPEG\")\n",
    "    \n",
    "\tprint(len(images), \" images resized.\")\n",
    "\t\n",
    "image_dir_path = os.getenv(\"HOME\") + \"/aiffel/rock_scissor_paper/scissor\"\n",
    "resize_images(image_dir_path)\n",
    "\n",
    "print(\"가위 이미지 resize 완료!\")"
   ]
  },
  {
   "cell_type": "code",
   "execution_count": 3,
   "id": "99a28d74",
   "metadata": {},
   "outputs": [
    {
     "name": "stdout",
     "output_type": "stream",
     "text": [
      "100  images to be resized.\n",
      "100  images resized.\n",
      "바위 이미지 resize 완료!\n"
     ]
    }
   ],
   "source": [
    "def resize_images(img_path):\n",
    "\timages=glob.glob(img_path + \"/*.jpg\")  \n",
    "    \n",
    "\tprint(len(images), \" images to be resized.\")\n",
    "\n",
    "    # 파일마다 모두 28x28 사이즈로 바꾸어 저장\n",
    "\ttarget_size=(28,28)\n",
    "\tfor img in images:\n",
    "\t\told_img=Image.open(img)\n",
    "\t\tnew_img=old_img.resize(target_size,Image.ANTIALIAS)\n",
    "\t\tnew_img.save(img, \"JPEG\")\n",
    "    \n",
    "\tprint(len(images), \" images resized.\")\n",
    "\t\n",
    "\n",
    "image_dir_path = os.getenv(\"HOME\") + \"/aiffel/rock_scissor_paper/rock\"\n",
    "resize_images(image_dir_path)\n",
    "\n",
    "print(\"바위 이미지 resize 완료!\")"
   ]
  },
  {
   "cell_type": "code",
   "execution_count": 4,
   "id": "2ad85ace",
   "metadata": {},
   "outputs": [
    {
     "name": "stdout",
     "output_type": "stream",
     "text": [
      "100  images to be resized.\n",
      "100  images resized.\n",
      "보 이미지 resize 완료!\n"
     ]
    }
   ],
   "source": [
    "def resize_images(img_path):\n",
    "\timages=glob.glob(img_path + \"/*.jpg\")  \n",
    "    \n",
    "\tprint(len(images), \" images to be resized.\")\n",
    "\n",
    "    # 파일마다 모두 28x28 사이즈로 바꾸어 저장\n",
    "\ttarget_size=(28,28)\n",
    "\tfor img in images:\n",
    "\t\told_img=Image.open(img)\n",
    "\t\tnew_img=old_img.resize(target_size,Image.ANTIALIAS)\n",
    "\t\tnew_img.save(img, \"JPEG\")\n",
    "    \n",
    "\tprint(len(images), \" images resized.\")\n",
    "\t\n",
    "\n",
    "image_dir_path = os.getenv(\"HOME\") + \"/aiffel/rock_scissor_paper/paper\"\n",
    "resize_images(image_dir_path)\n",
    "\n",
    "print(\"보 이미지 resize 완료!\")"
   ]
  },
  {
   "cell_type": "code",
   "execution_count": 5,
   "id": "50485b4f",
   "metadata": {},
   "outputs": [
    {
     "name": "stdout",
     "output_type": "stream",
     "text": [
      "학습데이터(x_train)의 이미지 개수는 300 입니다.\n",
      "x_train shape: (300, 28, 28, 3)\n",
      "y_train shape: (300,)\n"
     ]
    }
   ],
   "source": [
    "#가위바위보 라벨링 \n",
    "\n",
    "def load_data(img_path, number_of_data=300):  \n",
    "    # 가위 : 0, 바위 : 1, 보 : 2\n",
    "    img_size=28\n",
    "    color=3\n",
    "    #이미지 데이터와 라벨(가위 : 0, 바위 : 1, 보 : 2) 데이터를 담을 행렬(matrix) 영역을 생성\n",
    "    imgs=np.zeros(number_of_data*img_size*img_size*color,dtype=np.int32).reshape(number_of_data,img_size,img_size,color)\n",
    "    labels=np.zeros(number_of_data,dtype=np.int32)\n",
    "\n",
    "    idx=0\n",
    "    for file in glob.iglob(img_path+'/scissor/*.jpg'):\n",
    "        img = np.array(Image.open(file),dtype=np.int32)\n",
    "        imgs[idx,:,:,:]=img    # 데이터 영역에 이미지 행렬을 복사\n",
    "        labels[idx]=0   # 가위 : 0\n",
    "        idx=idx+1\n",
    "\n",
    "    for file in glob.iglob(img_path+'/rock/*.jpg'):\n",
    "        img = np.array(Image.open(file),dtype=np.int32)\n",
    "        imgs[idx,:,:,:]=img    # 데이터 영역에 이미지 행렬을 복사\n",
    "        labels[idx]=1   # 바위 : 1\n",
    "        idx=idx+1  \n",
    "    \n",
    "    for file in glob.iglob(img_path+'/paper/*.jpg'):\n",
    "        img = np.array(Image.open(file),dtype=np.int32)\n",
    "        imgs[idx,:,:,:]=img    # 데이터 영역에 이미지 행렬을 복사\n",
    "        labels[idx]=2   # 보 : 2\n",
    "        idx=idx+1\n",
    "        \n",
    "    print(\"학습데이터(x_train)의 이미지 개수는\", idx,\"입니다.\")\n",
    "    return imgs, labels\n",
    "\n",
    "image_dir_path = os.getenv(\"HOME\") + \"/aiffel/rock_scissor_paper\"\n",
    "(x_train, y_train)=load_data(image_dir_path)\n",
    "x_train_norm = x_train/255.0   # 입력은 0~1 사이의 값으로 정규화\n",
    "\n",
    "print(\"x_train shape: {}\".format(x_train.shape))\n",
    "print(\"y_train shape: {}\".format(y_train.shape))"
   ]
  },
  {
   "cell_type": "markdown",
   "id": "1b33d6b2",
   "metadata": {},
   "source": [
    "- Load한 데이터를 train data : 80%, validation_data : 10%, test_data : 10% 의 비율로 나누기"
   ]
  },
  {
   "cell_type": "code",
   "execution_count": 6,
   "id": "ae511fdf",
   "metadata": {},
   "outputs": [],
   "source": [
    "total_x, total_y = x_train_norm, y_train\n",
    "leng_x, leng_y = len(total_x), len(total_y)\n",
    "x_train, x_valid, x_test= total_x[:int(leng_x*0.8)], total_x[int(leng_x*0.8):int(leng_x*0.9)], total_x[int(leng_x*0.9):]\n",
    "y_train, y_valid, y_test= total_y[:int(leng_y*0.8)], total_y[int(leng_y*0.8):int(leng_y*0.9)], total_y[int(leng_y*0.9):]"
   ]
  },
  {
   "cell_type": "code",
   "execution_count": 7,
   "id": "19fbe768",
   "metadata": {},
   "outputs": [
    {
     "name": "stdout",
     "output_type": "stream",
     "text": [
      "라벨:  0\n"
     ]
    },
    {
     "data": {
      "image/png": "[encoded data removed]",
      "text/plain": [
       "<Figure size 432x288 with 1 Axes>"
      ]
     },
     "metadata": {
      "needs_background": "light"
     },
     "output_type": "display_data"
    }
   ],
   "source": [
    "# 라벨링이 제대로 됐는지 확인\n",
    "\n",
    "plt.imshow(x_train[1])\n",
    "print('라벨: ', y_train[1])"
   ]
  },
  {
   "cell_type": "markdown",
   "id": "1d4a5e0f",
   "metadata": {},
   "source": [
    "- 라벨 0 은 가위를 말하는데, 가위 사진이 나와 데이터가 제대로 라벨링 된 것을 확인"
   ]
  },
  {
   "cell_type": "markdown",
   "id": "c2f81b80",
   "metadata": {},
   "source": [
    "## (3) 딥러닝 네트워크 설계하기\n"
   ]
  },
  {
   "cell_type": "code",
   "execution_count": 8,
   "id": "9a6a5a76",
   "metadata": {},
   "outputs": [
    {
     "name": "stdout",
     "output_type": "stream",
     "text": [
      "- Model에 추가된 Layer 개수:  7\n"
     ]
    }
   ],
   "source": [
    "# Sequential model 을 사용 \n",
    "\n",
    "model=keras.models.Sequential()\n",
    "model.add(keras.layers.Conv2D(16, (3,3), activation='relu', input_shape=(28,28,3)))\n",
    "model.add(keras.layers.MaxPool2D(2,2))\n",
    "model.add(keras.layers.Conv2D(32, (3,3), activation='relu'))\n",
    "model.add(keras.layers.MaxPooling2D((2,2)))\n",
    "model.add(keras.layers.Flatten())\n",
    "model.add(keras.layers.Dense(50, activation='relu')) # 중간의 Dense만 50으로 변경\n",
    "model.add(keras.layers.Dense(3, activation='softmax'))\n",
    "\n",
    "print('- Model에 추가된 Layer 개수: ', len(model.layers))"
   ]
  },
  {
   "cell_type": "code",
   "execution_count": 9,
   "id": "00b34e1d",
   "metadata": {},
   "outputs": [
    {
     "name": "stdout",
     "output_type": "stream",
     "text": [
      "Model: \"sequential\"\n",
      "_________________________________________________________________\n",
      "Layer (type)                 Output Shape              Param #   \n",
      "=================================================================\n",
      "conv2d (Conv2D)              (None, 26, 26, 16)        448       \n",
      "_________________________________________________________________\n",
      "max_pooling2d (MaxPooling2D) (None, 13, 13, 16)        0         \n",
      "_________________________________________________________________\n",
      "conv2d_1 (Conv2D)            (None, 11, 11, 32)        4640      \n",
      "_________________________________________________________________\n",
      "max_pooling2d_1 (MaxPooling2 (None, 5, 5, 32)          0         \n",
      "_________________________________________________________________\n",
      "flatten (Flatten)            (None, 800)               0         \n",
      "_________________________________________________________________\n",
      "dense (Dense)                (None, 50)                40050     \n",
      "_________________________________________________________________\n",
      "dense_1 (Dense)              (None, 3)                 153       \n",
      "=================================================================\n",
      "Total params: 45,291\n",
      "Trainable params: 45,291\n",
      "Non-trainable params: 0\n",
      "_________________________________________________________________\n"
     ]
    }
   ],
   "source": [
    "# 모델 정보 확인 \n",
    "\n",
    "model.summary()"
   ]
  },
  {
   "cell_type": "markdown",
   "id": "fdcc95a8",
   "metadata": {},
   "source": [
    "## (4) 딥러닝 네트워크 학습시키기 "
   ]
  },
  {
   "cell_type": "code",
   "execution_count": 22,
   "id": "5f0034c3",
   "metadata": {},
   "outputs": [
    {
     "name": "stdout",
     "output_type": "stream",
     "text": [
      "Epoch 1/15\n",
      "10/10 [==============================] - 1s 19ms/step - loss: 0.3829 - accuracy: 0.8800\n",
      "Epoch 2/15\n",
      "10/10 [==============================] - 0s 22ms/step - loss: 0.1880 - accuracy: 0.9267\n",
      "Epoch 3/15\n",
      "10/10 [==============================] - 0s 22ms/step - loss: 0.1301 - accuracy: 0.9533\n",
      "Epoch 4/15\n",
      "10/10 [==============================] - 0s 22ms/step - loss: 0.0393 - accuracy: 0.9867\n",
      "Epoch 5/15\n",
      "10/10 [==============================] - 0s 22ms/step - loss: 0.0149 - accuracy: 1.0000\n",
      "Epoch 6/15\n",
      "10/10 [==============================] - 0s 19ms/step - loss: 0.0085 - accuracy: 1.0000\n",
      "Epoch 7/15\n",
      "10/10 [==============================] - 0s 22ms/step - loss: 0.0065 - accuracy: 1.0000\n",
      "Epoch 8/15\n",
      "10/10 [==============================] - 0s 22ms/step - loss: 0.0041 - accuracy: 1.0000\n",
      "Epoch 9/15\n",
      "10/10 [==============================] - 0s 22ms/step - loss: 0.0028 - accuracy: 1.0000\n",
      "Epoch 10/15\n",
      "10/10 [==============================] - 0s 22ms/step - loss: 0.0026 - accuracy: 1.0000\n",
      "Epoch 11/15\n",
      "10/10 [==============================] - 0s 22ms/step - loss: 0.0021 - accuracy: 1.0000\n",
      "Epoch 12/15\n",
      "10/10 [==============================] - 0s 22ms/step - loss: 0.0014 - accuracy: 1.0000\n",
      "Epoch 13/15\n",
      "10/10 [==============================] - 0s 22ms/step - loss: 0.0015 - accuracy: 1.0000\n",
      "Epoch 14/15\n",
      "10/10 [==============================] - 0s 21ms/step - loss: 0.0012 - accuracy: 1.0000\n",
      "Epoch 15/15\n",
      "10/10 [==============================] - 0s 22ms/step - loss: 0.0011 - accuracy: 1.0000\n"
     ]
    }
   ],
   "source": [
    "# model을 학습시키는 코드 작성\n",
    "\n",
    "model.compile(optimizer='adam',\n",
    "             loss='sparse_categorical_crossentropy',\n",
    "             metrics=['accuracy'])\n",
    "\n",
    "# 모델 훈련\n",
    "history1 = model.fit(x_train,y_train, epochs=15)"
   ]
  },
  {
   "cell_type": "code",
   "execution_count": 23,
   "id": "7c2812f5",
   "metadata": {},
   "outputs": [
    {
     "name": "stdout",
     "output_type": "stream",
     "text": [
      "1/1 [==============================] - 0s 119ms/step - loss: 1.0894 - accuracy: 0.5667\n"
     ]
    },
    {
     "data": {
      "text/plain": [
       "[1.089425802230835, 0.5666666626930237]"
      ]
     },
     "execution_count": 23,
     "metadata": {},
     "output_type": "execute_result"
    }
   ],
   "source": [
    "model.evaluate(x_test, y_test)"
   ]
  },
  {
   "cell_type": "markdown",
   "id": "3736610d",
   "metadata": {},
   "source": [
    "## (5) 성능확인을 위한 시각화"
   ]
  },
  {
   "cell_type": "code",
   "execution_count": 12,
   "id": "747a21a1",
   "metadata": {},
   "outputs": [
    {
     "data": {
      "image/png": "[encoded data removed]",
      "text/plain": [
       "<Figure size 1080x360 with 2 Axes>"
      ]
     },
     "metadata": {
      "needs_background": "light"
     },
     "output_type": "display_data"
    }
   ],
   "source": [
    "plt.figure(figsize=(15, 5))\n",
    "\n",
    "# 에포크별 정확도\n",
    "plt.subplot(1,2,1)\n",
    "plt.plot(history1.history[\"accuracy\"], label=\"accuracy\")\n",
    "plt.title(\"- accuracy -\")\n",
    "plt.legend()\n",
    "\n",
    "# 에포크별 손실률\n",
    "plt.subplot(1,2,2)\n",
    "plt.plot(history1.history[\"loss\"], label=\"loss\")\n",
    "plt.title(\"- loss -\")\n",
    "plt.legend()\n",
    "\n",
    "plt.show()"
   ]
  },
  {
   "cell_type": "markdown",
   "id": "d11da03a",
   "metadata": {},
   "source": [
    "- 정확도 그래프는 전체적으로 올라가는 추세이기는 하나 뚝 떨어졌다 급격히 올라가는게 반복되었고 너무 굴곡이 심하여 정상범주로 보이지 않는다. 0.5667 으로 수치상으로도 효율은 저조하다.  \n",
    "\n",
    "- loss 값 또한 전체적으로 떨어지는 추세이긴 커브가 반대로 뒤집힌 형상이다. "
   ]
  },
  {
   "cell_type": "markdown",
   "id": "52fda70e",
   "metadata": {},
   "source": [
    "## (6) 데이터 수 추가 \n",
    "\n",
    "- 다른 분들이 올려주신 추가 데이터를 사용해 더 좋은 네트워크를 만들어 보기\n",
    "- 데이터도 다시 resize 해주기\n",
    "- 라벨링 다시 해주기 "
   ]
  },
  {
   "cell_type": "code",
   "execution_count": 13,
   "id": "f922f9b3",
   "metadata": {},
   "outputs": [
    {
     "name": "stdout",
     "output_type": "stream",
     "text": [
      "100  images to be resized.\n",
      "100  images resized.\n",
      "가위 이미지 resize 완료!\n"
     ]
    }
   ],
   "source": [
    "def resize_images(img_path):\n",
    "\timages=glob.glob(img_path + \"/*.jpg\")  \n",
    "    \n",
    "\tprint(len(images), \" images to be resized.\")\n",
    "\n",
    "    # 파일마다 모두 28x28 사이즈로 바꾸어 저장\n",
    "\ttarget_size=(28,28)\n",
    "\tfor img in images:\n",
    "\t\told_img=Image.open(img)\n",
    "\t\tnew_img=old_img.resize(target_size,Image.ANTIALIAS)\n",
    "\t\tnew_img.save(img, \"JPEG\")\n",
    "    \n",
    "\tprint(len(images), \" images resized.\")\n",
    "\t\n",
    "\n",
    "image_dir_path = os.getenv(\"HOME\") + \"/aiffel/rock_scissor_paper/test/paper\"\n",
    "resize_images(image_dir_path)\n",
    "\n",
    "print(\"가위 이미지 resize 완료!\")"
   ]
  },
  {
   "cell_type": "code",
   "execution_count": 14,
   "id": "c945a8c1",
   "metadata": {},
   "outputs": [
    {
     "name": "stdout",
     "output_type": "stream",
     "text": [
      "100  images to be resized.\n",
      "100  images resized.\n",
      "바위 이미지 resize 완료!\n"
     ]
    }
   ],
   "source": [
    "def resize_images(img_path):\n",
    "\timages=glob.glob(img_path + \"/*.jpg\")  \n",
    "    \n",
    "\tprint(len(images), \" images to be resized.\")\n",
    "\n",
    "    # 파일마다 모두 28x28 사이즈로 바꾸어 저장\n",
    "\ttarget_size=(28,28)\n",
    "\tfor img in images:\n",
    "\t\told_img=Image.open(img)\n",
    "\t\tnew_img=old_img.resize(target_size,Image.ANTIALIAS)\n",
    "\t\tnew_img.save(img, \"JPEG\")\n",
    "    \n",
    "\tprint(len(images), \" images resized.\")\n",
    "\t\n",
    "\n",
    "image_dir_path = os.getenv(\"HOME\") + \"/aiffel/rock_scissor_paper/test/rock\"\n",
    "resize_images(image_dir_path)\n",
    "\n",
    "print(\"바위 이미지 resize 완료!\")"
   ]
  },
  {
   "cell_type": "code",
   "execution_count": 15,
   "id": "65aa2848",
   "metadata": {},
   "outputs": [
    {
     "name": "stdout",
     "output_type": "stream",
     "text": [
      "100  images to be resized.\n",
      "100  images resized.\n",
      "보 이미지 resize 완료!\n"
     ]
    }
   ],
   "source": [
    "def resize_images(img_path):\n",
    "\timages=glob.glob(img_path + \"/*.jpg\")  \n",
    "    \n",
    "\tprint(len(images), \" images to be resized.\")\n",
    "\n",
    "    # 파일마다 모두 28x28 사이즈로 바꾸어 저장\n",
    "\ttarget_size=(28,28)\n",
    "\tfor img in images:\n",
    "\t\told_img=Image.open(img)\n",
    "\t\tnew_img=old_img.resize(target_size,Image.ANTIALIAS)\n",
    "\t\tnew_img.save(img, \"JPEG\")\n",
    "    \n",
    "\tprint(len(images), \" images resized.\")\n",
    "\t\n",
    "\n",
    "image_dir_path = os.getenv(\"HOME\") + \"/aiffel/rock_scissor_paper/test/paper\"\n",
    "resize_images(image_dir_path)\n",
    "\n",
    "print(\"보 이미지 resize 완료!\")"
   ]
  },
  {
   "cell_type": "code",
   "execution_count": 16,
   "id": "6884830e",
   "metadata": {},
   "outputs": [
    {
     "name": "stdout",
     "output_type": "stream",
     "text": [
      "라벨:  0\n"
     ]
    },
    {
     "data": {
      "image/png": "[encoded data removed]",
      "text/plain": [
       "<Figure size 432x288 with 1 Axes>"
      ]
     },
     "metadata": {
      "needs_background": "light"
     },
     "output_type": "display_data"
    }
   ],
   "source": [
    "import matplotlib.pyplot as plt\n",
    "\n",
    "\n",
    "plt.imshow(x_train[0])\n",
    "print('라벨: ', y_train[0])"
   ]
  },
  {
   "cell_type": "code",
   "execution_count": 17,
   "id": "96deee06",
   "metadata": {},
   "outputs": [
    {
     "name": "stdout",
     "output_type": "stream",
     "text": [
      "학습데이터(x_train)의 이미지 개수는 300 입니다.\n",
      "x_train shape: (300, 28, 28, 3)\n",
      "y_train shape: (300,)\n"
     ]
    }
   ],
   "source": [
    "\n",
    "\n",
    "import numpy as np\n",
    "\n",
    "def load_data(img_path, number_of_data=300):  \n",
    "    # 가위 : 0, 바위 : 1, 보 : 2\n",
    "    img_size=28\n",
    "    color=3\n",
    "    #이미지 데이터와 라벨(가위 : 0, 바위 : 1, 보 : 2) 데이터를 담을 행렬(matrix) 영역을 생성\n",
    "    imgs=np.zeros(number_of_data*img_size*img_size*color,dtype=np.int32).reshape(number_of_data,img_size,img_size,color)\n",
    "    labels=np.zeros(number_of_data,dtype=np.int32)\n",
    "\n",
    "    idx=0\n",
    "    for file in glob.iglob(img_path+'/scissor/*.jpg'):\n",
    "        img = np.array(Image.open(file),dtype=np.int32)\n",
    "        imgs[idx,:,:,:]=img    # 데이터 영역에 이미지 행렬을 복사\n",
    "        labels[idx]=0   # 가위 : 0\n",
    "        idx=idx+1\n",
    "\n",
    "    for file in glob.iglob(img_path+'/rock/*.jpg'):\n",
    "        img = np.array(Image.open(file),dtype=np.int32)\n",
    "        imgs[idx,:,:,:]=img    # 데이터 영역에 이미지 행렬을 복사\n",
    "        labels[idx]=1   # 바위 : 1\n",
    "        idx=idx+1  \n",
    "    \n",
    "    for file in glob.iglob(img_path+'/paper/*.jpg'):\n",
    "        img = np.array(Image.open(file),dtype=np.int32)\n",
    "        imgs[idx,:,:,:]=img    # 데이터 영역에 이미지 행렬을 복사\n",
    "        labels[idx]=2   # 보 : 2\n",
    "        idx=idx+1\n",
    "        \n",
    "    print(\"학습데이터(x_train)의 이미지 개수는\", idx,\"입니다.\")\n",
    "    return imgs, labels\n",
    "\n",
    "image_dir_path = os.getenv(\"HOME\") + \"/aiffel/rock_scissor_paper\"\n",
    "(x_train, y_train)=load_data(image_dir_path)\n",
    "x_train_norm = x_train/255.0   # 입력은 0~1 사이의 값으로 정규화\n",
    "\n",
    "print(\"x_train shape: {}\".format(x_train.shape))\n",
    "print(\"y_train shape: {}\".format(y_train.shape))"
   ]
  },
  {
   "cell_type": "markdown",
   "id": "3830a239",
   "metadata": {},
   "source": [
    "## (6) 딥러닝 네트워크 학습시키기 "
   ]
  },
  {
   "cell_type": "code",
   "execution_count": 18,
   "id": "75b39c8f",
   "metadata": {},
   "outputs": [
    {
     "name": "stdout",
     "output_type": "stream",
     "text": [
      "Model: \"sequential_1\"\n",
      "_________________________________________________________________\n",
      "Layer (type)                 Output Shape              Param #   \n",
      "=================================================================\n",
      "conv2d_2 (Conv2D)            (None, 26, 26, 16)        448       \n",
      "_________________________________________________________________\n",
      "max_pooling2d_2 (MaxPooling2 (None, 13, 13, 16)        0         \n",
      "_________________________________________________________________\n",
      "conv2d_3 (Conv2D)            (None, 11, 11, 32)        4640      \n",
      "_________________________________________________________________\n",
      "max_pooling2d_3 (MaxPooling2 (None, 5, 5, 32)          0         \n",
      "_________________________________________________________________\n",
      "flatten_1 (Flatten)          (None, 800)               0         \n",
      "_________________________________________________________________\n",
      "dense_2 (Dense)              (None, 100)               80100     \n",
      "_________________________________________________________________\n",
      "dense_3 (Dense)              (None, 3)                 303       \n",
      "=================================================================\n",
      "Total params: 85,491\n",
      "Trainable params: 85,491\n",
      "Non-trainable params: 0\n",
      "_________________________________________________________________\n"
     ]
    }
   ],
   "source": [
    "# Sequential model 을 사용 \n",
    "\n",
    "model=keras.models.Sequential()\n",
    "model.add(keras.layers.Conv2D(16, (3,3), activation='relu', input_shape=(28,28,3)))\n",
    "model.add(keras.layers.MaxPool2D(2,2))\n",
    "model.add(keras.layers.Conv2D(32, (3,3), activation='relu'))\n",
    "model.add(keras.layers.MaxPooling2D((2,2)))\n",
    "model.add(keras.layers.Flatten())\n",
    "model.add(keras.layers.Dense(100, activation='relu')) # Dnese 만 100으로 변경\n",
    "model.add(keras.layers.Dense(3, activation='softmax'))\n",
    "\n",
    "\n",
    "# 모델 정보 확인\n",
    "\n",
    "model.summary()"
   ]
  },
  {
   "cell_type": "code",
   "execution_count": 19,
   "id": "70bd7bbf",
   "metadata": {},
   "outputs": [
    {
     "name": "stdout",
     "output_type": "stream",
     "text": [
      "Epoch 1/20\n",
      "10/10 [==============================] - 1s 38ms/step - loss: 16.7362 - accuracy: 0.3333 - val_loss: 1.0803 - val_accuracy: 1.0000\n",
      "Epoch 2/20\n",
      "10/10 [==============================] - 0s 20ms/step - loss: 3.8220 - accuracy: 0.3600 - val_loss: 1.0913 - val_accuracy: 0.5333\n",
      "Epoch 3/20\n",
      "10/10 [==============================] - 0s 25ms/step - loss: 1.4768 - accuracy: 0.4433 - val_loss: 1.0926 - val_accuracy: 0.9333\n",
      "Epoch 4/20\n",
      "10/10 [==============================] - 0s 26ms/step - loss: 0.7985 - accuracy: 0.6500 - val_loss: 1.0983 - val_accuracy: 0.5000\n",
      "Epoch 5/20\n",
      "10/10 [==============================] - 0s 22ms/step - loss: 0.5696 - accuracy: 0.7867 - val_loss: 1.0980 - val_accuracy: 0.3667\n",
      "Epoch 6/20\n",
      "10/10 [==============================] - 0s 24ms/step - loss: 0.3744 - accuracy: 0.9000 - val_loss: 1.0980 - val_accuracy: 0.4333\n",
      "Epoch 7/20\n",
      "10/10 [==============================] - 0s 23ms/step - loss: 0.2299 - accuracy: 0.9267 - val_loss: 1.0952 - val_accuracy: 0.5333\n",
      "Epoch 8/20\n",
      "10/10 [==============================] - 0s 25ms/step - loss: 0.1339 - accuracy: 0.9733 - val_loss: 1.0935 - val_accuracy: 0.4667\n",
      "Epoch 9/20\n",
      "10/10 [==============================] - 0s 24ms/step - loss: 0.1144 - accuracy: 0.9700 - val_loss: 1.0899 - val_accuracy: 0.6667\n",
      "Epoch 10/20\n",
      "10/10 [==============================] - 0s 24ms/step - loss: 0.0786 - accuracy: 0.9833 - val_loss: 1.0842 - val_accuracy: 0.9333\n",
      "Epoch 11/20\n",
      "10/10 [==============================] - 0s 25ms/step - loss: 0.0449 - accuracy: 0.9933 - val_loss: 1.0929 - val_accuracy: 0.4333\n",
      "Epoch 12/20\n",
      "10/10 [==============================] - 0s 24ms/step - loss: 0.0343 - accuracy: 0.9967 - val_loss: 1.0915 - val_accuracy: 0.4000\n",
      "Epoch 13/20\n",
      "10/10 [==============================] - 0s 24ms/step - loss: 0.0265 - accuracy: 0.9967 - val_loss: 1.0865 - val_accuracy: 0.7333\n",
      "Epoch 14/20\n",
      "10/10 [==============================] - 0s 24ms/step - loss: 0.0183 - accuracy: 1.0000 - val_loss: 1.0868 - val_accuracy: 0.7667\n",
      "Epoch 15/20\n",
      "10/10 [==============================] - 0s 25ms/step - loss: 0.0201 - accuracy: 1.0000 - val_loss: 1.0901 - val_accuracy: 0.6333\n",
      "Epoch 16/20\n",
      "10/10 [==============================] - 0s 24ms/step - loss: 0.0181 - accuracy: 1.0000 - val_loss: 1.0876 - val_accuracy: 0.7333\n",
      "Epoch 17/20\n",
      "10/10 [==============================] - 0s 23ms/step - loss: 0.0120 - accuracy: 1.0000 - val_loss: 1.0881 - val_accuracy: 0.7667\n",
      "Epoch 18/20\n",
      "10/10 [==============================] - 0s 24ms/step - loss: 0.0079 - accuracy: 1.0000 - val_loss: 1.0845 - val_accuracy: 0.8000\n",
      "Epoch 19/20\n",
      "10/10 [==============================] - 0s 24ms/step - loss: 0.0065 - accuracy: 1.0000 - val_loss: 1.0827 - val_accuracy: 0.9333\n",
      "Epoch 20/20\n",
      "10/10 [==============================] - 0s 22ms/step - loss: 0.0050 - accuracy: 1.0000 - val_loss: 1.0815 - val_accuracy: 0.9333\n"
     ]
    }
   ],
   "source": [
    "# model을 학습시키는 코드 작성\n",
    "\n",
    "model.compile(optimizer='adam',\n",
    "             loss='sparse_categorical_crossentropy',\n",
    "             metrics=['accuracy'])\n",
    "\n",
    "# 모델 훈련\n",
    "history2 = model.fit(x_train,y_train, validation_data=(x_valid, y_valid), epochs=20)"
   ]
  },
  {
   "cell_type": "code",
   "execution_count": 20,
   "id": "35228bc4",
   "metadata": {},
   "outputs": [
    {
     "name": "stdout",
     "output_type": "stream",
     "text": [
      "1/1 [==============================] - 0s 20ms/step - loss: 1.0817 - accuracy: 0.9333\n"
     ]
    },
    {
     "data": {
      "text/plain": [
       "[1.081659197807312, 0.9333333373069763]"
      ]
     },
     "execution_count": 20,
     "metadata": {},
     "output_type": "execute_result"
    }
   ],
   "source": [
    "model.evaluate(x_test, y_test)"
   ]
  },
  {
   "cell_type": "code",
   "execution_count": 21,
   "id": "72f5fe29",
   "metadata": {},
   "outputs": [
    {
     "data": {
      "image/png": "[encoded data removed]",
      "text/plain": [
       "<Figure size 1080x360 with 2 Axes>"
      ]
     },
     "metadata": {
      "needs_background": "light"
     },
     "output_type": "display_data"
    }
   ],
   "source": [
    "plt.figure(figsize=(15, 5))\n",
    "\n",
    "# 에포크별 정확도\n",
    "plt.subplot(1,2,1)\n",
    "plt.plot(history2.history[\"accuracy\"], label=\"accuracy\")\n",
    "plt.title(\"- accuracy -\")\n",
    "plt.legend()\n",
    "\n",
    "# 에포크별 손실률\n",
    "plt.subplot(1,2,2)\n",
    "plt.plot(history2.history[\"loss\"], label=\"loss\")\n",
    "plt.title(\"- loss -\")\n",
    "plt.legend()\n",
    "\n",
    "plt.show()"
   ]
  },
  {
   "cell_type": "markdown",
   "id": "4f074940",
   "metadata": {},
   "source": [
    "- accuracy 값이 0.9333 이라는 수치가 나왔지만 loss 값은 크게 변하지 않았는데 noise 때문인걸로 짐작한다. Accuracy 그래프 중간에 살짝 오버피트가 난것 같지만 전체적으로 올라가는 형상을 보여 괜찮은것 같다.\n",
    " "
   ]
  },
  {
   "cell_type": "markdown",
   "id": "584eff85",
   "metadata": {},
   "source": [
    "## 회고 \n",
    "\n",
    "\n",
    "#### 1 번째 그래프\n",
    "\n",
    "- Loss 값 : 1.0894\n",
    "- Accuracy : 0.5667\n",
    "\n",
    "\n",
    "- 정확도 그래프는 전체적으로 올라가는 추세이기는 하나 뚝 떨어졌다 급격히 올라가는게 반복되었고 너무 굴곡이 심하여 정상범주로 보이지 않는다. 0.5333 으로 수치상으로도 효율은 저조하다.  \n",
    "\n",
    "- loss 값 또한 높은편이며 그래프가 전체적으로 값이 떨어지는 추세이긴 커브가 반대로 뒤집힌 형상이다. 중간에 돌출된 부분이 있는데 오버피팅으로 짐작된다. \n",
    "\n",
    "\n",
    "#### 2번째 그래프 \n",
    "\n",
    "- loss값 : 1.0817\n",
    "- accuracy : 0.9333\n",
    "\n",
    "\n",
    "\n",
    "- accuracy 그래프는 dense 를 100 으로 바꾸고 epoch 를 20 으로 변경\n",
    "\n",
    "- 다행이 처음보다는 accuracy 값이 올라가 0.9333 이라는 수치가 나와줬고 목표였던 60% 이상을 달성했지만 loss 값은 조금 낮아졌는데 noise 때문인걸로 짐작한다. epoch 는 15, 18, 25, 20 으로 변경하면서 맞췄다. Accuracy 그래프 중간에 살짝 오버피트가 난것 같지만 전체적으로 올라가는 형상을 보여 괜찮은것 같다. \n",
    "\n",
    "\n",
    "#### 느낀점 \n",
    "- 추가 데이터를 사용하고 하이퍼 파라미터를 조절하여 accuracy 를 높이긴 했지만, dense와 epoch 만 변경한 것이라 더 상세히 하이퍼 파라미터간의 상관관계를 확인하려면 많은 연습이 필요한 것 같다. 단기간에는 힘들겠지만 텐서플로우와 케라스에 더 익숙해져 라미터들을 능숙히 다룰 수 있도록 많은 노력을 해야할 것 같다.\n"
   ]
  },
  {
   "cell_type": "code",
   "execution_count": null,
   "id": "8a879748",
   "metadata": {},
   "outputs": [],
   "source": []
  }
 ],
 "metadata": {
  "kernelspec": {
   "display_name": "Python 3 (ipykernel)",
   "language": "python",
   "name": "python3"
  },
  "language_info": {
   "codemirror_mode": {
    "name": "ipython",
    "version": 3
   },
   "file_extension": ".py",
   "mimetype": "text/x-python",
   "name": "python",
   "nbconvert_exporter": "python",
   "pygments_lexer": "ipython3",
   "version": "3.9.7"
  }
 },
 "nbformat": 4,
 "nbformat_minor": 5
}
